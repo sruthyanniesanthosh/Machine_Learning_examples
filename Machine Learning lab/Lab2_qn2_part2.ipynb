{
 "cells": [
  {
   "cell_type": "markdown",
   "id": "12fab9ed",
   "metadata": {},
   "source": [
    "Multiple Linear (Auto)Regression\n"
   ]
  },
  {
   "cell_type": "markdown",
   "id": "5e7de9f6",
   "metadata": {},
   "source": [
    "For this exercise, we shall try to forecast store sales from\n",
    "the Rossman dataset. Particularly, you are required to build multiple linear regression models to forecast\n",
    "sales for the next 42 days."
   ]
  },
  {
   "cell_type": "code",
   "execution_count": 1,
   "id": "dc886d00",
   "metadata": {},
   "outputs": [
    {
     "name": "stdout",
     "output_type": "stream",
     "text": [
      "         Store  DayOfWeek        Date  Sales  Customers  Open  Promo  \\\n",
      "0            1          5  2015-07-31   5263        555     1      1   \n",
      "1            2          5  2015-07-31   6064        625     1      1   \n",
      "2            3          5  2015-07-31   8314        821     1      1   \n",
      "3            4          5  2015-07-31  13995       1498     1      1   \n",
      "4            5          5  2015-07-31   4822        559     1      1   \n",
      "...        ...        ...         ...    ...        ...   ...    ...   \n",
      "1017204   1111          2  2013-01-01      0          0     0      0   \n",
      "1017205   1112          2  2013-01-01      0          0     0      0   \n",
      "1017206   1113          2  2013-01-01      0          0     0      0   \n",
      "1017207   1114          2  2013-01-01      0          0     0      0   \n",
      "1017208   1115          2  2013-01-01      0          0     0      0   \n",
      "\n",
      "        StateHoliday  SchoolHoliday  \n",
      "0                  0              1  \n",
      "1                  0              1  \n",
      "2                  0              1  \n",
      "3                  0              1  \n",
      "4                  0              1  \n",
      "...              ...            ...  \n",
      "1017204            a              1  \n",
      "1017205            a              1  \n",
      "1017206            a              1  \n",
      "1017207            a              1  \n",
      "1017208            a              1  \n",
      "\n",
      "[1017209 rows x 9 columns]\n",
      "233     942\n",
      "836     942\n",
      "308     942\n",
      "309     942\n",
      "821     942\n",
      "       ... \n",
      "778     758\n",
      "677     758\n",
      "952     758\n",
      "1065    758\n",
      "512     758\n",
      "Name: Store, Length: 1115, dtype: int64\n",
      "Int64Index([ 988,  629,   22,  534,   89,  115,  471,   99,  186,  719,\n",
      "            ...\n",
      "             129,  164, 1067,  555,  165,  778,  677,  952, 1065,  512],\n",
      "           dtype='int64', length=181)\n",
      "Int64Index([     12,      19,      21,      31,      35,      40,      45,\n",
      "                 50,      51,      57,\n",
      "            ...\n",
      "            1017149, 1017158, 1017160, 1017173, 1017185, 1017187, 1017195,\n",
      "            1017197, 1017200, 1017202],\n",
      "           dtype='int64', length=137381)\n",
      "         Store  DayOfWeek        Date  Sales  Customers  Open  Promo  \\\n",
      "0            1          5  2015-07-31   5263        555     1      1   \n",
      "1            2          5  2015-07-31   6064        625     1      1   \n",
      "2            3          5  2015-07-31   8314        821     1      1   \n",
      "3            4          5  2015-07-31  13995       1498     1      1   \n",
      "4            5          5  2015-07-31   4822        559     1      1   \n",
      "...        ...        ...         ...    ...        ...   ...    ...   \n",
      "1017204   1111          2  2013-01-01      0          0     0      0   \n",
      "1017205   1112          2  2013-01-01      0          0     0      0   \n",
      "1017206   1113          2  2013-01-01      0          0     0      0   \n",
      "1017207   1114          2  2013-01-01      0          0     0      0   \n",
      "1017208   1115          2  2013-01-01      0          0     0      0   \n",
      "\n",
      "        StateHoliday  SchoolHoliday  \n",
      "0                  0              1  \n",
      "1                  0              1  \n",
      "2                  0              1  \n",
      "3                  0              1  \n",
      "4                  0              1  \n",
      "...              ...            ...  \n",
      "1017204            a              1  \n",
      "1017205            a              1  \n",
      "1017206            a              1  \n",
      "1017207            a              1  \n",
      "1017208            a              1  \n",
      "\n",
      "[879828 rows x 9 columns]\n",
      "Number of stores that have sales recorded for 942 days:  934\n"
     ]
    },
    {
     "name": "stderr",
     "output_type": "stream",
     "text": [
      "/opt/anaconda3/lib/python3.8/site-packages/IPython/core/interactiveshell.py:3165: DtypeWarning: Columns (7) have mixed types.Specify dtype option on import or set low_memory=False.\n",
      "  has_raised = await self.run_ast_nodes(code_ast.body, cell_name,\n"
     ]
    }
   ],
   "source": [
    "import pandas as pd\n",
    "import matplotlib.pyplot as plt\n",
    "import numpy as np\n",
    "\n",
    "df_train = pd.read_csv('Downloads/train.csv') #Read the required csv file and store it\n",
    "df_store = pd.read_csv('Downloads/store.csv')\n",
    "\n",
    "print(df_train)\n",
    "store_count = df_train[\"Store\"].value_counts()\n",
    "print(store_count)\n",
    "\n",
    "#Find Stores with recorded sales not equal to 942 and store its indices\n",
    "store_numbers = store_count.index[store_count.values != 942] \n",
    "\n",
    "print(store_numbers)\n",
    "\n",
    "index = df_train.index[df_train[\"Store\"].isin(store_numbers)] \n",
    "print(index)\n",
    "\n",
    "#Remove the stores with sales less than 942 and store it in new data frame\n",
    "df_new = df_train.drop(index)\n",
    "\n",
    "\n",
    "print(df_new)\n",
    "\n",
    "#The number of stores having 942 sales are printed\n",
    "print(\"Number of stores that have sales recorded for 942 days: \", df_new['Store'].nunique())\n",
    "\n"
   ]
  },
  {
   "cell_type": "code",
   "execution_count": 2,
   "id": "4bbc1ec1",
   "metadata": {},
   "outputs": [
    {
     "name": "stdout",
     "output_type": "stream",
     "text": [
      "Date   2013-01-01  2013-01-02  2013-01-03  2013-01-04  2013-01-05  2013-01-06  \\\n",
      "Store                                                                           \n",
      "1               0        5530        4327        4486        4997           0   \n",
      "2               0        4422        4159        4484        2342           0   \n",
      "3               0        6823        5902        6069        4523           0   \n",
      "4               0        9941        8247        8290       10338           0   \n",
      "5               0        4253        3465        4456        1590           0   \n",
      "...           ...         ...         ...         ...         ...         ...   \n",
      "1111            0        5097        4579        4640        3325           0   \n",
      "1112            0       10797        8716        9788        9513           0   \n",
      "1113            0        6218        5563        5524        5194           0   \n",
      "1114            0       20642       18463       18371       18856           0   \n",
      "1115            0        3697        4297        4540        4771           0   \n",
      "\n",
      "Date   2013-01-07  2013-01-08  2013-01-09  2013-01-10  ...  2015-07-22  \\\n",
      "Store                                                  ...               \n",
      "1            7176        5580        5471        4892  ...        3464   \n",
      "2            6775        6318        6763        5618  ...        5093   \n",
      "3           12247        9800        8001        7772  ...        5414   \n",
      "4           12112       10031        8857        9472  ...        8503   \n",
      "5            6978        5718        5974        4999  ...        3595   \n",
      "...           ...         ...         ...         ...  ...         ...   \n",
      "1111         9444        6472        5307        5887  ...        4021   \n",
      "1112        25165       17058       14724       14366  ...        6029   \n",
      "1113         8984        6866        6115        7508  ...        4565   \n",
      "1114        21237       18816       17073       18075  ...       20424   \n",
      "1115         6905        5243        4649        5007  ...        5342   \n",
      "\n",
      "Date   2015-07-23  2015-07-24  2015-07-25  2015-07-26  2015-07-27  2015-07-28  \\\n",
      "Store                                                                           \n",
      "1            3769        3706        4364           0        6102        5011   \n",
      "2            4108        3854        2512           0        6627        5671   \n",
      "3            5702        5080        3878           0        8107        8864   \n",
      "4            7286        8322        9322           0       11812       10275   \n",
      "5            3713        3815        2030           0        7059        6083   \n",
      "...           ...         ...         ...         ...         ...         ...   \n",
      "1111         3587        3918        2177           0        7742        6793   \n",
      "1112         6730        6220        6216           0       14383        9583   \n",
      "1113         6410        6399        4784           0        7582        6468   \n",
      "1114        20564       19627       21312           0       26720       25518   \n",
      "1115         6150        5816        6897           0       10712        8093   \n",
      "\n",
      "Date   2015-07-29  2015-07-30  2015-07-31  \n",
      "Store                                      \n",
      "1            4782        5020        5263  \n",
      "2            6402        5567        6064  \n",
      "3            7610        8977        8314  \n",
      "4           10514       10387       13995  \n",
      "5            5899        4943        4822  \n",
      "...           ...         ...         ...  \n",
      "1111         4907        5263        5723  \n",
      "1112         9179        9652        9626  \n",
      "1113         6640        7491        7289  \n",
      "1114        25840       24395       27508  \n",
      "1115         7661        8405        8680  \n",
      "\n",
      "[934 rows x 942 columns]\n",
      "[[    0  5530  4327 ...  4782  5020  5263]\n",
      " [    0  4422  4159 ...  6402  5567  6064]\n",
      " [    0  6823  5902 ...  7610  8977  8314]\n",
      " ...\n",
      " [    0  6218  5563 ...  6640  7491  7289]\n",
      " [    0 20642 18463 ... 25840 24395 27508]\n",
      " [    0  3697  4297 ...  7661  8405  8680]]\n"
     ]
    }
   ],
   "source": [
    "sorted_df = df_new.sort_values(by=[\"Store\"]) # Sort the dataframe by store number\n",
    "\n",
    "req_df = sorted_df[[\"Store\",\"Date\",\"Sales\"]] #Remove unwanted features\n",
    "\n",
    "#Pivot the dataframe to obtain frame having the stores as rows and each daily sale as the column\n",
    "pivot_df = req_df.pivot(index=\"Store\",columns=\"Date\",values=\"Sales\")\n",
    "\n",
    "print(pivot_df)\n",
    "\n",
    "data = pivot_df.to_numpy()\n",
    "\n",
    "print(data)\n",
    "\n",
    "\n"
   ]
  },
  {
   "cell_type": "code",
   "execution_count": 3,
   "id": "3c270268",
   "metadata": {},
   "outputs": [
    {
     "name": "stdout",
     "output_type": "stream",
     "text": [
      "Shape of the data matrix: (934, 942)\n"
     ]
    }
   ],
   "source": [
    "#Create a data matrix of the shape (#_of_stores, 942) for the daily sales record of these stores\n",
    "\n",
    "data_matrix = np.asmatrix(data)\n",
    "print(\"Shape of the data matrix:\",data_matrix.shape)"
   ]
  },
  {
   "cell_type": "markdown",
   "id": "63994b32",
   "metadata": {},
   "source": [
    "Use the first 800 stores in this data matrix for training and the rest for testing. Also split the\n",
    "sales data into 2 parts, the 1st part contains the information about the first 900 days of sales\n",
    "(these would be the features) and the 2nd contains the information about the last 42 days of\n",
    "sales (these would be the targets). The resultant matrices should be of the dimensions:\n",
    "𝑋𝑡𝑟𝑎𝑖𝑛 = (800, 900)\n",
    "𝑋𝑡𝑒𝑠𝑡 = (#𝑟𝑒𝑚𝑎𝑖𝑛𝑖𝑛𝑔 𝑠𝑡𝑜𝑟𝑒𝑠, 900)\n",
    "𝑌𝑡𝑟𝑎𝑖𝑛 = (800, 42)\n",
    "𝑌𝑡𝑒𝑠𝑡 = (#𝑟𝑒𝑚𝑎𝑖𝑛𝑖𝑛𝑔 𝑠𝑡𝑜𝑟𝑒𝑠, 42)\n"
   ]
  },
  {
   "cell_type": "code",
   "execution_count": 4,
   "id": "d5484136",
   "metadata": {},
   "outputs": [],
   "source": [
    "\n",
    "X_train = data_matrix[:800,:900]\n",
    "X_train.shape\n",
    "X_train=np.hstack((np.ones((800,1)),X_train)) #For bias"
   ]
  },
  {
   "cell_type": "code",
   "execution_count": 5,
   "id": "6eea20af",
   "metadata": {},
   "outputs": [
    {
     "data": {
      "text/plain": [
       "(800, 42)"
      ]
     },
     "execution_count": 5,
     "metadata": {},
     "output_type": "execute_result"
    }
   ],
   "source": [
    "Y_train = data_matrix[:800,900:942]\n",
    "Y_train.shape"
   ]
  },
  {
   "cell_type": "code",
   "execution_count": 6,
   "id": "b648f9ad",
   "metadata": {},
   "outputs": [
    {
     "data": {
      "text/plain": [
       "(134, 901)"
      ]
     },
     "execution_count": 6,
     "metadata": {},
     "output_type": "execute_result"
    }
   ],
   "source": [
    "X_test = data_matrix[800:,:900]\n",
    "\n",
    "X_test.shape\n",
    "X_test=np.hstack((np.ones((X_test.shape[0],1)),X_test)) #For bias\n",
    "X_test.shape"
   ]
  },
  {
   "cell_type": "code",
   "execution_count": 7,
   "id": "8c6377e8",
   "metadata": {},
   "outputs": [
    {
     "data": {
      "text/plain": [
       "(134, 42)"
      ]
     },
     "execution_count": 7,
     "metadata": {},
     "output_type": "execute_result"
    }
   ],
   "source": [
    "Y_test = data_matrix[800:,900:]\n",
    "Y_test.shape"
   ]
  },
  {
   "cell_type": "markdown",
   "id": "5df10f18",
   "metadata": {},
   "source": [
    "We need to build multiple linear regression models to predict sales for each day,i.e, 42 models are required. We have X_train and Y_train\n",
    "\n",
    "X_train. Beta = Y_train\n",
    "\n",
    "We can solve for Beta using normal equations,\n",
    "\n",
    "Beta = inv(X_train.T.X_train) * (X_train.Y_train) as done in lab 1"
   ]
  },
  {
   "cell_type": "code",
   "execution_count": 8,
   "id": "7c91cd42",
   "metadata": {},
   "outputs": [],
   "source": [
    "#Finding inverse using numpy\n",
    "\n",
    "inverse = np.linalg.inv(X_train.T.dot(X_train)) "
   ]
  },
  {
   "cell_type": "code",
   "execution_count": 9,
   "id": "21ca7d77",
   "metadata": {},
   "outputs": [],
   "source": [
    "B = X_train.T.dot(Y_train)"
   ]
  },
  {
   "cell_type": "code",
   "execution_count": 10,
   "id": "377fb55f",
   "metadata": {},
   "outputs": [
    {
     "name": "stdout",
     "output_type": "stream",
     "text": [
      "beta values for 42 models: [[ 1.36414273e+04  1.83300138e+04  1.69319810e+04 ...  1.97017202e+04\n",
      "   2.01161470e+04  2.23595550e+04]\n",
      " [ 2.95260000e+04  5.06505000e+04  3.60605000e+04 ...  3.94895000e+04\n",
      "   4.05930000e+04  4.59800000e+04]\n",
      " [-5.54162902e+00 -7.10656860e+00 -5.96194155e+00 ... -6.31723301e+00\n",
      "  -6.51706919e+00 -8.00636473e+00]\n",
      " ...\n",
      " [-2.40211404e-01  1.23691279e-10  7.30315477e-02 ...  2.87205479e-01\n",
      "   1.22761209e-01 -4.58099410e-01]\n",
      " [ 6.44860590e-02 -4.80213203e-10 -2.37147995e-01 ...  7.60697439e-02\n",
      "   6.75380699e-01  7.23830475e-02]\n",
      " [ 1.91323700e-01  1.36788003e-09  2.90875849e-01 ... -4.30810227e-01\n",
      "   1.77651261e-01  5.39095833e-01]]\n",
      "(901, 42)\n"
     ]
    }
   ],
   "source": [
    "#Finding Beta matrix -  beta values are found for each day.\n",
    "\n",
    "beta = inverse.dot(B)   # Beta is matrix of shape 901 * 42, i.e, each column corresponds to beta values for each store for a single day\n",
    "beta.shape\n",
    "print(\"beta values for 42 models:\" ,beta)\n",
    "print(beta.shape)\n"
   ]
  },
  {
   "cell_type": "code",
   "execution_count": 11,
   "id": "f0754b57",
   "metadata": {},
   "outputs": [],
   "source": [
    "Y_predicted = np.matmul(X_train,beta) # predicting Y values from beta\n"
   ]
  },
  {
   "cell_type": "code",
   "execution_count": 12,
   "id": "e033ad8f",
   "metadata": {},
   "outputs": [
    {
     "name": "stdout",
     "output_type": "stream",
     "text": [
      "(800, 42)\n"
     ]
    }
   ],
   "source": [
    "print(Y_predicted.shape)"
   ]
  },
  {
   "cell_type": "code",
   "execution_count": 13,
   "id": "7a31308b",
   "metadata": {},
   "outputs": [
    {
     "data": {
      "text/plain": [
       "(901, 42)"
      ]
     },
     "execution_count": 13,
     "metadata": {},
     "output_type": "execute_result"
    }
   ],
   "source": [
    "beta1 = np.linalg.lstsq(X_train, Y_train, rcond=None)[0] \n",
    "beta1.shape"
   ]
  },
  {
   "cell_type": "markdown",
   "id": "5784d7e7",
   "metadata": {},
   "source": [
    "Using these learned\n",
    "parameters to make predictions for each day ahead. In total 42 days."
   ]
  },
  {
   "cell_type": "code",
   "execution_count": 14,
   "id": "88305df3",
   "metadata": {},
   "outputs": [
    {
     "name": "stdout",
     "output_type": "stream",
     "text": [
      "(134, 42)\n",
      "(134, 42)\n"
     ]
    }
   ],
   "source": [
    "Y_predicted_test = np.matmul(X_test,beta) \n",
    "print(Y_predicted_test.shape)\n",
    "print(Y_test.shape)"
   ]
  },
  {
   "cell_type": "markdown",
   "id": "06482fbf",
   "metadata": {},
   "source": [
    "Function for finding Root Mean Square error and Mean absolute Error"
   ]
  },
  {
   "cell_type": "code",
   "execution_count": 15,
   "id": "02af85ed",
   "metadata": {},
   "outputs": [],
   "source": [
    "def Error(Y_predicted_test,Y_test):\n",
    "    Rmse = np.sqrt(np.mean(np.square((Y_predicted_test - Y_test))))\n",
    "    print(\"Overall Rmse: \",Rmse)\n",
    "    Mae = np.mean(np.abs(Y_predicted_test - Y_test))\n",
    "    print(\"Overall MAE: \", Mae)\n"
   ]
  },
  {
   "cell_type": "code",
   "execution_count": 16,
   "id": "932ffb8a",
   "metadata": {},
   "outputs": [
    {
     "name": "stdout",
     "output_type": "stream",
     "text": [
      "Rmse of sales in 1 th day: 69586741.50004596\n",
      "Rmse of sales in 2 th day: 93475550.2265032\n",
      "Rmse of sales in 3 th day: 84248569.91801976\n",
      "Rmse of sales in 4 th day: 79053458.36100636\n",
      "Rmse of sales in 5 th day: 78067877.57178217\n",
      "Rmse of sales in 6 th day: 78020988.64852072\n",
      "Rmse of sales in 7 th day: 84330375.17587627\n",
      "Rmse of sales in 8 th day: 72670948.40695646\n",
      "Rmse of sales in 9 th day: 96251590.71195032\n",
      "Rmse of sales in 10 th day: 112352734.74793494\n",
      "Rmse of sales in 11 th day: 114114523.7675407\n",
      "Rmse of sales in 12 th day: 104924470.27767235\n",
      "Rmse of sales in 13 th day: 102334947.00499521\n",
      "Rmse of sales in 14 th day: 103766948.48011333\n",
      "Rmse of sales in 15 th day: 73654481.5533537\n",
      "Rmse of sales in 16 th day: 97930180.91676609\n",
      "Rmse of sales in 17 th day: 91165350.02104656\n",
      "Rmse of sales in 18 th day: 81782468.3314204\n",
      "Rmse of sales in 19 th day: 85276486.69022481\n",
      "Rmse of sales in 20 th day: 84048844.30382757\n",
      "Rmse of sales in 21 th day: 87123679.14382777\n",
      "Rmse of sales in 22 th day: 73454938.31561798\n",
      "Rmse of sales in 23 th day: 100420907.32912874\n",
      "Rmse of sales in 24 th day: 107613692.79439741\n",
      "Rmse of sales in 25 th day: 101412559.65792862\n",
      "Rmse of sales in 26 th day: 98168962.98052235\n",
      "Rmse of sales in 27 th day: 96282096.26051526\n",
      "Rmse of sales in 28 th day: 97291932.14116228\n",
      "Rmse of sales in 29 th day: 76562661.36151014\n",
      "Rmse of sales in 30 th day: 103901053.46037467\n",
      "Rmse of sales in 31 th day: 87195494.0092868\n",
      "Rmse of sales in 32 th day: 80304794.12208791\n",
      "Rmse of sales in 33 th day: 79319815.56034788\n",
      "Rmse of sales in 34 th day: 81062218.67892352\n",
      "Rmse of sales in 35 th day: 83738194.71537222\n",
      "Rmse of sales in 36 th day: 69448884.32890117\n",
      "Rmse of sales in 37 th day: 100581720.48193936\n",
      "Rmse of sales in 38 th day: 105852930.39162494\n",
      "Rmse of sales in 39 th day: 97398133.63154967\n",
      "Rmse of sales in 40 th day: 93993194.60988747\n",
      "Rmse of sales in 41 th day: 96825294.78479052\n",
      "Rmse of sales in 42 th day: 110395081.71341297\n"
     ]
    }
   ],
   "source": [
    "#To find Rmse of sales for each day (daily sales)\n",
    "for i in range(42):\n",
    "    sum =0\n",
    "    sum1 =0\n",
    "    for j in range(134):\n",
    "        sum = sum + Y_predicted_test[j,i]\n",
    "        sum1 = sum1 + Y_test[j,i]\n",
    "    print(\"Rmse of sales in\",i+1, \"th day:\",np.sqrt((np.square(sum - sum1))/134))\n",
    "        "
   ]
  },
  {
   "cell_type": "code",
   "execution_count": 17,
   "id": "800a6aba",
   "metadata": {},
   "outputs": [
    {
     "name": "stdout",
     "output_type": "stream",
     "text": [
      "Overall Rmse:  55435358.28851152\n",
      "Overall MAE:  7878559.536782837\n"
     ]
    }
   ],
   "source": [
    "Error(Y_predicted_test,Y_test) # Rmse and Mae of overall sales"
   ]
  },
  {
   "cell_type": "code",
   "execution_count": 18,
   "id": "e116328e",
   "metadata": {},
   "outputs": [
    {
     "name": "stdout",
     "output_type": "stream",
     "text": [
      "Mae of sales in 1 th day: 6011378.88209818\n",
      "Mae of sales in 2 th day: 8075057.640452066\n",
      "Mae of sales in 3 th day: 7277967.945256086\n",
      "Mae of sales in 4 th day: 6829178.661108418\n",
      "Mae of sales in 5 th day: 6744037.448641384\n",
      "Mae of sales in 6 th day: 6739986.862609876\n",
      "Mae of sales in 7 th day: 7285034.843186964\n",
      "Mae of sales in 8 th day: 6277813.7785821725\n",
      "Mae of sales in 9 th day: 8314871.012803398\n",
      "Mae of sales in 10 th day: 9705798.007645871\n",
      "Mae of sales in 11 th day: 9857993.398303209\n",
      "Mae of sales in 12 th day: 9064093.694373103\n",
      "Mae of sales in 13 th day: 8840392.955115715\n",
      "Mae of sales in 14 th day: 8964099.04108976\n",
      "Mae of sales in 15 th day: 6362778.101650699\n",
      "Mae of sales in 16 th day: 8459879.120546447\n",
      "Mae of sales in 17 th day: 7875486.739025511\n",
      "Mae of sales in 18 th day: 7064929.215762159\n",
      "Mae of sales in 19 th day: 7366766.429619432\n",
      "Mae of sales in 20 th day: 7260714.280068038\n",
      "Mae of sales in 21 th day: 7526339.553283407\n",
      "Mae of sales in 22 th day: 6345540.191388883\n",
      "Mae of sales in 23 th day: 8675045.11098661\n",
      "Mae of sales in 24 th day: 9296407.136529226\n",
      "Mae of sales in 25 th day: 8760710.824587055\n",
      "Mae of sales in 26 th day: 8480506.749093868\n",
      "Mae of sales in 27 th day: 8317506.290824427\n",
      "Mae of sales in 28 th day: 8404742.824055439\n",
      "Mae of sales in 29 th day: 6614006.572868659\n",
      "Mae of sales in 30 th day: 8975683.946905859\n",
      "Mae of sales in 31 th day: 7532543.412759151\n",
      "Mae of sales in 32 th day: 6937277.606488335\n",
      "Mae of sales in 33 th day: 6852188.41855216\n",
      "Mae of sales in 34 th day: 7002709.122429359\n",
      "Mae of sales in 35 th day: 7233878.242979397\n",
      "Mae of sales in 36 th day: 5999469.836358985\n",
      "Mae of sales in 37 th day: 8688937.25149974\n",
      "Mae of sales in 38 th day: 9144300.432058634\n",
      "Mae of sales in 39 th day: 8413917.235484974\n",
      "Mae of sales in 40 th day: 8119775.304300588\n",
      "Mae of sales in 41 th day: 8364431.496218806\n",
      "Mae of sales in 42 th day: 9536682.543169165\n"
     ]
    }
   ],
   "source": [
    "#Mae of sales for each day(daily sales)\n",
    "for i in range(42):\n",
    "    sum =0\n",
    "    sum1 =0\n",
    "    for j in range(134):\n",
    "        sum = sum + Y_predicted_test[j,i]\n",
    "        sum1 = sum1 + Y_test[j,i]\n",
    "    print(\"Mae of sales in\",i+1, \"th day:\",np.abs(sum - sum1)/134)\n",
    "        "
   ]
  },
  {
   "cell_type": "markdown",
   "id": "4f397a60",
   "metadata": {},
   "source": [
    "Repeating last sale value -  Y is predicted using the last recorded sales value of each store\n",
    "and repeat it for the next 42 days."
   ]
  },
  {
   "cell_type": "code",
   "execution_count": 19,
   "id": "5120d1d0",
   "metadata": {},
   "outputs": [
    {
     "name": "stdout",
     "output_type": "stream",
     "text": [
      "(134, 42)\n",
      "[[10708. 10708. 10708. ... 10708. 10708. 10708.]\n",
      " [ 9081.  9081.  9081. ...  9081.  9081.  9081.]\n",
      " [ 8926.  8926.  8926. ...  8926.  8926.  8926.]\n",
      " ...\n",
      " [ 7289.  7289.  7289. ...  7289.  7289.  7289.]\n",
      " [27508. 27508. 27508. ... 27508. 27508. 27508.]\n",
      " [ 8680.  8680.  8680. ...  8680.  8680.  8680.]]\n"
     ]
    }
   ],
   "source": [
    "new_y = np.zeros((134,42))\n",
    "for i in range(134):\n",
    "    Last_Sale = Y_test[i,41] #getting last sale value\n",
    "    for j in range(42):\n",
    "        new_y[i,j] = Last_Sale # getting Y\n",
    "print(new_y.shape)\n",
    "print(new_y)"
   ]
  },
  {
   "cell_type": "code",
   "execution_count": 20,
   "id": "a7189e18",
   "metadata": {},
   "outputs": [
    {
     "name": "stdout",
     "output_type": "stream",
     "text": [
      "Overall Rmse:  4646.157673062403\n",
      "Overall MAE:  3532.9797441364603\n"
     ]
    }
   ],
   "source": [
    "Error(new_y,Y_test) # errors btw actual y and newly predicted Y"
   ]
  },
  {
   "cell_type": "markdown",
   "id": "e92fc347",
   "metadata": {},
   "source": [
    "Repeating Mean value per store - Repeat the mean of sales for the sales horizon"
   ]
  },
  {
   "cell_type": "code",
   "execution_count": 21,
   "id": "3b0185de",
   "metadata": {},
   "outputs": [
    {
     "name": "stdout",
     "output_type": "stream",
     "text": [
      "(134,)\n"
     ]
    }
   ],
   "source": [
    "matrix = data_matrix[800:,] # Finding mean sales of each store\n",
    "matrix.shape\n",
    "mean = np.zeros((134))\n",
    "for i in range(134):\n",
    "    sum = 0\n",
    "    for j in range(942):\n",
    "        sum = sum + matrix[i,j]\n",
    "    mean[i] = sum/942\n",
    "\n",
    "print(mean.shape)\n",
    "\n"
   ]
  },
  {
   "cell_type": "code",
   "execution_count": 22,
   "id": "6c3d2138",
   "metadata": {},
   "outputs": [
    {
     "name": "stdout",
     "output_type": "stream",
     "text": [
      "(134, 42)\n",
      "[[ 5868.71019108  5868.71019108  5868.71019108 ...  5868.71019108\n",
      "   5868.71019108  5868.71019108]\n",
      " [ 5574.45010616  5574.45010616  5574.45010616 ...  5574.45010616\n",
      "   5574.45010616  5574.45010616]\n",
      " [ 5393.40552017  5393.40552017  5393.40552017 ...  5393.40552017\n",
      "   5393.40552017  5393.40552017]\n",
      " ...\n",
      " [ 5516.18046709  5516.18046709  5516.18046709 ...  5516.18046709\n",
      "   5516.18046709  5516.18046709]\n",
      " [17200.19639066 17200.19639066 17200.19639066 ... 17200.19639066\n",
      "  17200.19639066 17200.19639066]\n",
      " [ 5225.29617834  5225.29617834  5225.29617834 ...  5225.29617834\n",
      "   5225.29617834  5225.29617834]]\n"
     ]
    }
   ],
   "source": [
    "new_y = np.zeros((134,42))\n",
    "for i in range(134):\n",
    "    mean_value = mean[i]\n",
    "    for j in range(42):\n",
    "        new_y[i,j] = mean_value # finding new y\n",
    "        \n",
    "print(new_y.shape)\n",
    "print(new_y)"
   ]
  },
  {
   "cell_type": "code",
   "execution_count": 23,
   "id": "8551abd9",
   "metadata": {},
   "outputs": [
    {
     "name": "stdout",
     "output_type": "stream",
     "text": [
      "Overall Rmse:  3120.2216810710515\n",
      "Overall MAE:  2214.525431682956\n"
     ]
    }
   ],
   "source": [
    "Error(new_y,Y_test) # errors btw actual y and newly predicted Y"
   ]
  },
  {
   "cell_type": "markdown",
   "id": "6595aa67",
   "metadata": {},
   "source": [
    "Repeating Mean Value per store per weekday -  For each of the 42 days ahead get\n",
    "their predictions as a mean of all sales recorded for that day of week in the past. For\n",
    "e.g., the prediction of Monday ahead should be the mean of all sales for this\n",
    "particular store on all previous Mondays."
   ]
  },
  {
   "cell_type": "code",
   "execution_count": 24,
   "id": "2f41ab03",
   "metadata": {},
   "outputs": [
    {
     "name": "stdout",
     "output_type": "stream",
     "text": [
      "[[ 7642.35555556  7056.94814815  6680.08148148  6928.14074074\n",
      "   4338.78358209     0.          8398.59701493]\n",
      " [ 6646.94074074  6352.9037037   5810.25925926  6478.6962963\n",
      "   6198.93283582     0.          7511.09701493]\n",
      " [ 6443.77037037  5982.83703704  5638.55555556  6694.53333333\n",
      "   5998.58955224     0.          6971.7761194 ]\n",
      " [ 7184.58518519  5846.51851852  5597.44444444  6402.74814815\n",
      "   5105.04477612     0.          7923.20895522]\n",
      " [13065.74074074 10300.8        10856.74074074  9599.21481481\n",
      "   4189.63432836     0.         14238.49253731]\n",
      " [ 9432.2         9166.8         8576.02222222  8887.57037037\n",
      "   9287.89552239     0.         10609.48507463]\n",
      " [ 8662.46666667  8671.44444444  7372.71111111  7831.59259259\n",
      "   7026.89552239     0.          9644.30597015]\n",
      " [ 5066.22962963  4738.58518519  4293.14814815  4759.15555556\n",
      "   3631.82835821     0.          5379.90298507]\n",
      " [ 8803.55555556  8013.27407407  8688.46666667  8470.75555556\n",
      "   6152.68656716     0.          9852.58208955]\n",
      " [ 7632.02962963  6957.05925926  6683.11111111  7008.8962963\n",
      "   4795.25373134     0.          8576.34328358]\n",
      " [ 3516.74814815  3494.94074074  3152.48148148  3179.58518519\n",
      "   2724.15671642     0.          3572.18656716]\n",
      " [ 3849.23703704  3381.31111111  3294.82222222  3117.03703704\n",
      "   1351.29104478     0.          4113.26119403]\n",
      " [ 8150.74814815  7401.84444444  7583.00740741  7639.05925926\n",
      "   7448.1641791      0.          9254.91791045]\n",
      " [ 3314.75555556  2997.99259259  2862.03703704  3213.92592593\n",
      "   1388.89552239     0.          4059.99253731]\n",
      " [ 6594.6         6053.28888889  5772.15555556  6168.6962963\n",
      "   5287.50746269     0.          7384.49253731]\n",
      " [ 7738.95555556  7276.18518519  7548.2         7737.92592593\n",
      "   5780.37313433     0.          8547.14925373]\n",
      " [ 7411.74074074  6900.25925926  6295.28148148  6839.20740741\n",
      "   4421.91044776     0.          8475.26865672]\n",
      " [ 7365.31851852  6805.91111111  6462.2         7076.35555556\n",
      "   5596.2761194      0.          8476.6119403 ]\n",
      " [ 6140.6         5691.71851852  5912.2         6258.97037037\n",
      "   4918.57462687     0.          7457.07462687]\n",
      " [ 7368.21481481  6673.20740741  5998.80740741  6821.6962963\n",
      "   5353.87313433     0.          8391.80597015]\n",
      " [ 7121.82222222  6804.46666667  6764.71851852  7265.25925926\n",
      "   5904.75373134     0.          8474.76865672]\n",
      " [ 8153.17037037  7421.58518519  7295.60740741  7794.74814815\n",
      "   6166.39552239     0.          9846.05223881]\n",
      " [10092.34074074  9404.48148148  8909.54814815  9133.62222222\n",
      "   9764.65671642     0.         11676.97014925]\n",
      " [ 6084.58518519  5630.11851852  5082.44444444  5498.26666667\n",
      "   6034.49253731     0.          6639.24626866]\n",
      " [ 7919.24444444  7340.57037037  7238.38518519  8396.13333333\n",
      "   8773.48507463     0.          8735.20895522]\n",
      " [ 6260.45185185  6060.77037037  5523.82222222  5871.4962963\n",
      "   5186.85074627     0.          6755.70149254]\n",
      " [ 7294.39259259  6629.31111111  6447.51851852  6947.43703704\n",
      "   4175.7238806      0.          8363.8880597 ]\n",
      " [ 5975.14814815  5718.07407407  5982.05925926  6929.95555556\n",
      "   5501.54477612     0.          7016.5       ]\n",
      " [ 5206.45925926  5007.65925926  4880.45925926  5737.66666667\n",
      "   6561.75373134     0.          5917.10447761]\n",
      " [ 6109.92592593  5784.73333333  5138.60740741  5724.71111111\n",
      "   3606.09701493     0.          6695.61940299]\n",
      " [ 7952.62222222  7067.57037037  7113.52592593  7462.07407407\n",
      "   5474.24626866     0.          9052.85074627]\n",
      " [ 4817.22222222  4461.18518519  4081.33333333  4588.76296296\n",
      "   2496.67164179     0.          5811.05223881]\n",
      " [ 9112.56296296  8624.74814815  8399.98518519  9325.9037037\n",
      "   7956.28358209     0.         10242.65671642]\n",
      " [ 6873.99259259  6055.21481481  6004.77037037  5986.62962963\n",
      "   4122.42537313     0.          8033.7238806 ]\n",
      " [ 4951.37037037  4629.08148148  4503.42222222  5109.64444444\n",
      "   4648.14925373     0.          6077.29104478]\n",
      " [ 4374.3037037   4100.42962963  3754.95555556  4174.61481481\n",
      "   3785.06716418     0.          4720.02238806]\n",
      " [ 9391.          8697.00740741  8895.2962963   9400.46666667\n",
      "   5777.1641791      0.         11025.1641791 ]\n",
      " [ 5879.47407407  5194.94814815  5191.13333333  5168.2\n",
      "   3398.61940299     0.          6642.02985075]\n",
      " [ 5885.92592593  5571.99259259  5386.88148148  5617.53333333\n",
      "   6201.8880597      0.          6644.19402985]\n",
      " [ 8165.37777778  6774.25925926  6328.66666667  7472.38518519\n",
      "   4915.81343284     0.          9048.44776119]\n",
      " [ 6600.58518519  5713.47407407  5491.47407407  5800.37037037\n",
      "   5330.5            0.          6965.48507463]\n",
      " [ 6297.6962963   5922.42962963  5640.13333333  5944.55555556\n",
      "   6097.82089552     0.          7010.23880597]\n",
      " [ 6439.98518519  6246.4962963   6015.18518519  6979.71111111\n",
      "   7685.55970149     0.          7374.42537313]\n",
      " [ 5454.68148148  5139.54074074  4850.66666667  4903.14814815\n",
      "   4668.04477612     0.          6023.        ]\n",
      " [ 7927.60740741  8112.00740741  7801.05925926  8862.54814815\n",
      "   9529.76119403     0.          9443.40298507]\n",
      " [ 7836.99259259  7391.08888889  6815.2962963   7282.14814815\n",
      "   7593.94029851     0.          8661.29104478]\n",
      " [ 4320.23703704  3934.2962963   3599.35555556  3908.37037037\n",
      "   2239.90298507     0.          5096.50746269]\n",
      " [14156.11111111 11647.05185185 11137.07407407 12988.68148148\n",
      "   5521.70149254     0.         15140.2238806 ]\n",
      " [ 5803.18518519  5643.46666667  5621.57037037  6167.87407407\n",
      "   5016.47014925     0.          6687.3358209 ]\n",
      " [ 5620.48888889  5007.73333333  4675.33333333  5201.08148148\n",
      "   4024.35820896     0.          6765.25373134]\n",
      " [ 7691.72592593  6715.97037037  6803.72592593  6682.21481481\n",
      "   5347.2761194      0.          7890.00746269]\n",
      " [11414.28148148 10839.40740741 10280.00740741 11121.32592593\n",
      "  11788.94029851     0.         12791.47761194]\n",
      " [ 8720.81481481  8437.92592593  7193.47407407  8268.91111111\n",
      "  10122.07462687     0.          9657.7238806 ]\n",
      " [ 8485.97777778  7908.53333333  7405.11111111  8193.98518519\n",
      "   9486.65671642     0.          9294.90298507]\n",
      " [ 7331.54814815  6777.7037037   6308.37037037  6687.57777778\n",
      "   6438.7761194      0.          8837.17164179]\n",
      " [ 5805.15555556  5590.63703704  5424.03703704  5889.57777778\n",
      "   5856.14179104     0.          7078.7238806 ]\n",
      " [ 5802.61481481  5524.18518519  5390.92592593  6153.56296296\n",
      "   6358.98507463     0.          6496.12686567]\n",
      " [ 7640.3037037   7148.31111111  6683.35555556  7178.45925926\n",
      "   6244.31343284     0.          7892.85820896]\n",
      " [10102.94814815  8701.97037037  7932.55555556  9839.1037037\n",
      "   7668.35820896     0.         10684.23134328]\n",
      " [ 5111.02962963  4418.31851852  4124.62962963  4699.06666667\n",
      "   3066.47761194     0.          5956.37313433]\n",
      " [ 6417.11111111  5660.88888889  5532.58518519  5106.77777778\n",
      "   1880.57462687     0.          6761.39552239]\n",
      " [ 4087.64444444  3612.22962963  3671.65185185  3533.67407407\n",
      "   1585.41044776     0.          4415.49253731]\n",
      " [ 5013.54074074  4493.26666667  4138.62962963  4465.62222222\n",
      "   3958.51492537     0.          5954.70149254]\n",
      " [10308.62962963  8691.55555556  8748.68148148  9357.5037037\n",
      "   5253.43283582     0.         10887.57462687]\n",
      " [14484.31851852 13178.97037037 13119.28148148 13560.37777778\n",
      "  10439.14179104     0.         15933.78358209]\n",
      " [ 7861.31111111  6232.91851852  6290.59259259  6164.82222222\n",
      "   2536.39552239     0.          8573.62686567]\n",
      " [ 5672.95555556  4602.48888889  4949.15555556  4769.77037037\n",
      "   2020.96268657     0.          6221.97761194]\n",
      " [ 4571.81481481  4485.06666667  4547.98518519  5111.92592593\n",
      "   4987.59701493     0.          5142.8880597 ]\n",
      " [ 6827.12592593  6414.5037037   6483.41481481  6408.48888889\n",
      "   6311.52238806     0.          7561.60447761]\n",
      " [ 7755.88888889  7932.81481481  6825.31851852  7404.55555556\n",
      "   8694.51492537     0.          8237.35820896]\n",
      " [ 8841.74074074  8021.22962963  7860.68888889  8430.24444444\n",
      "   6805.86567164     0.         10355.20149254]\n",
      " [ 4331.05185185  3982.62222222  3925.17037037  4088.73333333\n",
      "   2795.46268657     0.          4771.85820896]\n",
      " [ 8493.93333333  8027.02222222  7394.31111111  8812.93333333\n",
      "   9071.17910448     0.          9138.51492537]\n",
      " [ 6572.08888889  5958.97037037  5705.37777778  6073.80740741\n",
      "   6741.7238806      0.          7164.44029851]\n",
      " [ 8201.77037037  7555.72592593  8108.2         7827.19259259\n",
      "   6191.62686567  2341.6641791   9195.42537313]\n",
      " [ 8438.45185185  8272.48148148  8106.74074074  8758.17777778\n",
      "   6788.62686567     0.         10017.1641791 ]\n",
      " [ 5107.65925926  4745.11111111  4294.02222222  5053.02962963\n",
      "   3397.45522388     0.          5551.41044776]\n",
      " [ 6856.21481481  6402.3037037   6249.73333333  6683.88148148\n",
      "   5947.49253731     0.          7908.58955224]\n",
      " [ 6914.56296296  6770.05185185  6579.78518519  7479.61481481\n",
      "   6926.26865672     0.          8191.41044776]\n",
      " [ 7749.02962963  7425.07407407  6873.47407407  7082.34074074\n",
      "   5329.7761194      0.          8143.2238806 ]\n",
      " [ 7458.75555556  6918.71851852  6575.86666667  7112.42962963\n",
      "   5310.41791045     0.          8674.50746269]\n",
      " [ 9616.54074074  8976.57037037  8124.4         8219.32592593\n",
      "   6546.84328358     0.         10516.26119403]\n",
      " [ 6465.37777778  5855.87407407  5622.55555556  5950.63703704\n",
      "   3873.40298507     0.          7358.59701493]\n",
      " [ 7835.44444444  7477.48888889  7230.24444444  7661.46666667\n",
      "   7139.46268657     0.          8677.70149254]\n",
      " [ 5867.39259259  5697.36296296  6012.88888889  6317.46666667\n",
      "   6853.24626866     0.          6658.49253731]\n",
      " [ 7863.11111111  6945.6962963   6283.22222222  7572.16296296\n",
      "   5007.71641791     0.          8339.1119403 ]\n",
      " [ 8328.76296296  7852.82222222  7604.37037037  8004.48148148\n",
      "   8341.06716418     0.          8921.17164179]\n",
      " [ 7329.74814815  7029.39259259  6679.95555556  7288.38518519\n",
      "   5576.20895522     0.          8481.75373134]\n",
      " [ 6711.57037037  6637.6         6537.67407407  7170.3037037\n",
      "   7767.41791045     0.          7756.87313433]\n",
      " [ 6430.52592593  5959.36296296  5905.11851852  6193.5037037\n",
      "   5367.36567164     0.          7202.1119403 ]\n",
      " [ 4332.15555556  4024.19259259  3840.43703704  4035.63703704\n",
      "   3516.58208955     0.          5120.07462687]\n",
      " [ 9749.82962963  8934.05185185  8292.77777778  9156.14814815\n",
      "   8315.7238806      0.         10251.19402985]\n",
      " [11264.57037037 10232.59259259  9548.8        10549.47407407\n",
      "  10566.49253731     0.         11905.14179104]\n",
      " [ 4115.65925926  4081.88888889  3640.7037037   4304.8962963\n",
      "   4744.60447761     0.          4746.05970149]\n",
      " [ 6886.02962963  7671.61481481  5576.54814815  5436.88148148\n",
      "   3435.17164179     0.          7599.35074627]\n",
      " [ 6889.47407407  6422.23703704  6146.02962963  6479.74074074\n",
      "   7237.52985075     0.          7789.73880597]\n",
      " [ 6439.79259259  5770.88888889  5740.83703704  5707.54814815\n",
      "   4648.35820896     0.          6779.78358209]\n",
      " [ 7321.88888889  6991.12592593  6254.42962963  6802.06666667\n",
      "   3995.08955224     0.          8089.87313433]\n",
      " [ 7722.19259259  7064.07407407  6537.45185185  6968.74814815\n",
      "   5590.64179104     0.          8208.89552239]\n",
      " [ 4789.46666667  4569.45925926  4738.17037037  5229.84444444\n",
      "   4609.01492537     0.          5875.55970149]\n",
      " [11110.88888889 10506.97037037 10050.14814815 10430.5037037\n",
      "  12677.17910448     0.         12108.23880597]\n",
      " [ 3739.28148148  3381.96296296  3290.46666667  3468.62962963\n",
      "   2767.02238806     0.          4293.82835821]\n",
      " [ 4682.3037037   4277.45185185  4095.23703704  4616.71851852\n",
      "   2953.04477612     0.          5344.32835821]\n",
      " [ 7087.42222222  6611.1037037   5970.99259259  6257.26666667\n",
      "   5481.31343284     0.          7875.11940299]\n",
      " [ 9225.14074074  8313.96296296  7786.21481481  8481.05185185\n",
      "   6523.12686567     0.         10039.32835821]\n",
      " [ 5675.02222222  5406.76296296  5155.77037037  5076.97037037\n",
      "   2119.05223881  3839.18656716  6039.54477612]\n",
      " [ 7559.77777778  6452.57777778  6785.26666667  6341.20740741\n",
      "   5759.70149254     0.          7905.91044776]\n",
      " [ 5005.78518519  4811.79259259  4265.51851852  4982.43703704\n",
      "   5491.78358209     0.          5295.28358209]\n",
      " [ 6451.97777778  5706.88148148  5714.88888889  5874.9037037\n",
      "   5828.84328358     0.          6843.86567164]\n",
      " [ 7769.75555556  7395.57777778  7127.45185185  7717.83703704\n",
      "   5442.50746269     0.          8596.87313433]\n",
      " [ 8243.57037037  7481.32592593  7084.85185185  7198.34074074\n",
      "   5031.94776119     0.          9482.71641791]\n",
      " [ 6051.74814815  5751.65925926  5740.58518519  6192.28148148\n",
      "   6031.26119403     0.          6810.90298507]\n",
      " [ 5450.65925926  4957.12592593  4849.58518519  4994.59259259\n",
      "   3160.48507463     0.          5996.        ]\n",
      " [ 9887.81481481  9204.63703704  8591.44444444  9975.34814815\n",
      "  10281.34328358     0.         10847.2761194 ]\n",
      " [ 7229.8962963   6900.54074074  6217.25185185  6035.76296296\n",
      "   2970.41791045     0.          8011.89552239]\n",
      " [ 8299.7037037   7674.42222222  7394.25185185  8065.8962963\n",
      "   6911.64925373     0.          9842.29104478]\n",
      " [ 7947.71111111  7883.31111111  7707.60740741  8503.93333333\n",
      "   7559.05970149     0.          8698.69402985]\n",
      " [ 5207.58518519  4798.22222222  4416.79259259  4405.65925926\n",
      "   3288.48507463     0.          5646.23134328]\n",
      " [ 5445.80740741  5066.99259259  4705.12592593  5405.15555556\n",
      "   4666.14925373     0.          6278.        ]\n",
      " [ 9490.01481481  9491.91851852  9829.85925926 10021.82222222\n",
      "   7417.1641791  11786.8358209  10175.6641791 ]\n",
      " [ 5754.57777778  5237.65925926  4924.93333333  5182.20740741\n",
      "   2739.46268657     0.          6618.68656716]\n",
      " [ 8135.          7539.40740741  7797.99259259  7552.85185185\n",
      "   7337.41044776  3208.50746269  9798.78358209]\n",
      " [ 5916.98518519  5045.26666667  4751.02222222  5306.74814815\n",
      "   3339.97761194     0.          6582.94029851]\n",
      " [10007.06666667  9154.48148148  9145.28888889  9510.37037037\n",
      "   8388.12686567     0.         11857.64925373]\n",
      " [ 5012.31851852  4621.81481481  4276.68148148  4806.68148148\n",
      "   4928.73134328     0.          5469.79104478]\n",
      " [ 4518.65925926  4113.92592593  3815.21481481  4251.66666667\n",
      "   4231.8880597      0.          5479.85820896]\n",
      " [ 5337.83703704  4838.45185185  4728.54074074  4794.15555556\n",
      "   2947.34328358     0.          5840.7761194 ]\n",
      " [ 6611.28148148  5701.02962963  5630.3037037   5370.02222222\n",
      "   2300.54477612     0.          7665.07462687]\n",
      " [ 4823.23703704  4174.48148148  4285.3037037   4301.58518519\n",
      "   3223.15671642     0.          5542.24626866]\n",
      " [ 5632.16296296  5000.86666667  4681.3037037   5104.65185185\n",
      "   3288.7238806      0.          6670.32835821]\n",
      " [10131.55555556  9540.63703704  8879.46666667  9455.65925926\n",
      "   8592.3880597      0.         12626.31343284]\n",
      " [ 6512.56296296  6308.62222222  6570.96296296  6293.85925926\n",
      "   5893.57462687     0.          7006.65671642]\n",
      " [19855.24444444 19082.67407407 18593.32592593 19969.53333333\n",
      "  21935.5            0.         20900.17164179]\n",
      " [ 5811.53333333  5666.15555556  5396.60740741  6208.88148148\n"
     ]
    },
    {
     "name": "stdout",
     "output_type": "stream",
     "text": [
      "   6773.3880597      0.          6704.2238806 ]]\n",
      "(134, 7)\n"
     ]
    }
   ],
   "source": [
    "matrix = data_matrix[800:,]\n",
    "matrix.shape\n",
    "mean = np.zeros((134,7))\n",
    "for i in range(134):\n",
    "    sum1=sum2=sum3=sum4=sum5=sum6=sum7 = 0\n",
    "    for j in range(0,942,7):\n",
    "        sum1 = sum1 + matrix[i,j]        #Finding sum of sales of each day of the week\n",
    "        sum2 = sum2 + matrix[i,j+1]\n",
    "        sum3 = sum3 + matrix[i,j+2]\n",
    "        sum4 = sum4 + matrix[i,j+3]\n",
    "        if(j!=938):\n",
    "            sum5 = sum5 + matrix[i,j+4]\n",
    "            sum6 = sum6 + matrix[i,j+5]\n",
    "            sum7 = sum7 + matrix[i,j+6]\n",
    "    mean[i,0] = sum1/135  # Finding mean of sales for each day of week\n",
    "    mean[i,1] = sum2/135\n",
    "    mean[i,2] = sum3/135\n",
    "    mean[i,3] = sum4/135\n",
    "    mean[i,4] = sum5/134\n",
    "    mean[i,5] = sum6/134\n",
    "    mean[i,6] = sum7/134\n",
    "    \n",
    "print(mean)\n",
    "print(mean.shape)\n",
    "\n"
   ]
  },
  {
   "cell_type": "code",
   "execution_count": 25,
   "id": "1acaa210",
   "metadata": {},
   "outputs": [
    {
     "name": "stdout",
     "output_type": "stream",
     "text": [
      "(134, 42)\n",
      "[[ 7642.35555556  7056.94814815  6680.08148148 ...  4338.78358209\n",
      "      0.          8398.59701493]\n",
      " [ 6646.94074074  6352.9037037   5810.25925926 ...  6198.93283582\n",
      "      0.          7511.09701493]\n",
      " [ 6443.77037037  5982.83703704  5638.55555556 ...  5998.58955224\n",
      "      0.          6971.7761194 ]\n",
      " ...\n",
      " [ 6512.56296296  6308.62222222  6570.96296296 ...  5893.57462687\n",
      "      0.          7006.65671642]\n",
      " [19855.24444444 19082.67407407 18593.32592593 ... 21935.5\n",
      "      0.         20900.17164179]\n",
      " [ 5811.53333333  5666.15555556  5396.60740741 ...  6773.3880597\n",
      "      0.          6704.2238806 ]]\n"
     ]
    }
   ],
   "source": [
    "new_y = np.zeros((134,42))\n",
    "for i in range(134):\n",
    "    for j in range(0,42,7):\n",
    "        new_y[i,j] = mean[i,0]\n",
    "        new_y[i,j+1] = mean[i,1]\n",
    "        new_y[i,j+2] = mean[i,2]\n",
    "        new_y[i,j+3] = mean[i,3]\n",
    "        new_y[i,j+4] = mean[i,4]\n",
    "        new_y[i,j+5] = mean[i,5]\n",
    "        new_y[i,j+6] = mean[i,6]\n",
    "        \n",
    "print(new_y.shape)\n",
    "print(new_y)"
   ]
  },
  {
   "cell_type": "code",
   "execution_count": 26,
   "id": "88be778a",
   "metadata": {},
   "outputs": [
    {
     "name": "stdout",
     "output_type": "stream",
     "text": [
      "Overall Rmse:  4289.21028359613\n",
      "Overall MAE:  3236.6643648613126\n"
     ]
    }
   ],
   "source": [
    "Error(new_y,Y_test) # errors btw actual y and newly predicted Y"
   ]
  },
  {
   "cell_type": "markdown",
   "id": "447d5e0d",
   "metadata": {},
   "source": [
    "From evaluating the various RMSEs and MAEs we find that the highest error occurred when sales were predicted using linear regression. Hence regression is not a good choice for this case."
   ]
  },
  {
   "cell_type": "markdown",
   "id": "53993d9e",
   "metadata": {},
   "source": [
    "Reference\n",
    "\n",
    "https://pandas.pydata.org/pandas-docs/version/0.25.1/reference/api/pandas.DataFrame.to_numpy.html#pandas.DataFrame.to_numpy\n",
    "    https://pandas.pydata.org/pandas-docs/dev/user_guide/reshaping.html"
   ]
  }
 ],
 "metadata": {
  "kernelspec": {
   "display_name": "Python 3",
   "language": "python",
   "name": "python3"
  },
  "language_info": {
   "codemirror_mode": {
    "name": "ipython",
    "version": 3
   },
   "file_extension": ".py",
   "mimetype": "text/x-python",
   "name": "python",
   "nbconvert_exporter": "python",
   "pygments_lexer": "ipython3",
   "version": "3.8.8"
  }
 },
 "nbformat": 4,
 "nbformat_minor": 5
}
