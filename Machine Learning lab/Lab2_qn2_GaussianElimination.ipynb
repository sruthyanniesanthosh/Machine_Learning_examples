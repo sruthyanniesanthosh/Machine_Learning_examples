{
 "cells": [
  {
   "cell_type": "markdown",
   "id": "f4940f14",
   "metadata": {},
   "source": [
    "Linear Regression by implementing Gaussian Elimination"
   ]
  },
  {
   "cell_type": "markdown",
   "id": "0e0ecf6a",
   "metadata": {},
   "source": [
    "We revisit the exercise sheet from last week and try to\n",
    "implement (multiple) Linear regression algorithm for 10 features."
   ]
  },
  {
   "cell_type": "code",
   "execution_count": 1,
   "id": "0b4ba394",
   "metadata": {},
   "outputs": [],
   "source": [
    "import numpy as np\n",
    "import matplotlib.pyplot as plt\n",
    "import pandas as pd"
   ]
  },
  {
   "cell_type": "code",
   "execution_count": 2,
   "id": "108abeb5",
   "metadata": {},
   "outputs": [
    {
     "name": "stdout",
     "output_type": "stream",
     "text": [
      "Y vector- [[0.1595514 ]\n",
      " [0.98780248]\n",
      " [0.31693553]\n",
      " [0.3321453 ]\n",
      " [0.90325184]\n",
      " [0.73572563]\n",
      " [0.74463981]\n",
      " [0.48162897]\n",
      " [0.97265587]\n",
      " [0.20729229]\n",
      " [0.80509764]\n",
      " [0.72479339]\n",
      " [0.8886808 ]\n",
      " [0.43156872]\n",
      " [0.32125716]\n",
      " [0.75152619]\n",
      " [0.73241348]\n",
      " [0.22468335]\n",
      " [0.5790877 ]\n",
      " [0.07307918]\n",
      " [0.36198698]\n",
      " [0.64772755]\n",
      " [0.51359575]\n",
      " [0.607025  ]\n",
      " [0.08435786]\n",
      " [0.43970629]\n",
      " [0.2887705 ]\n",
      " [0.99505629]\n",
      " [0.20685289]\n",
      " [0.41235902]\n",
      " [0.31051726]\n",
      " [0.17159603]\n",
      " [0.27835222]\n",
      " [0.89033531]\n",
      " [0.04802506]\n",
      " [0.66649819]\n",
      " [0.03171151]\n",
      " [0.4633289 ]\n",
      " [0.8271165 ]\n",
      " [0.94150884]\n",
      " [0.45597007]\n",
      " [0.16174988]\n",
      " [0.65236543]\n",
      " [0.93301845]\n",
      " [0.05484007]\n",
      " [0.30260391]\n",
      " [0.91268977]\n",
      " [0.84758485]\n",
      " [0.18398578]\n",
      " [0.00844486]\n",
      " [0.98478884]\n",
      " [0.75842729]\n",
      " [0.91441113]\n",
      " [0.39870068]\n",
      " [0.32215833]\n",
      " [0.66687713]\n",
      " [0.95112653]\n",
      " [0.02049015]\n",
      " [0.24533747]\n",
      " [0.66360808]\n",
      " [0.61330158]\n",
      " [0.85432682]\n",
      " [0.80962352]\n",
      " [0.54604145]\n",
      " [0.43429157]\n",
      " [0.35084927]\n",
      " [0.06774839]\n",
      " [0.80405015]\n",
      " [0.43061909]\n",
      " [0.72540279]\n",
      " [0.98121298]\n",
      " [0.35625924]\n",
      " [0.23720922]\n",
      " [0.3181652 ]\n",
      " [0.99098806]\n",
      " [0.45561288]\n",
      " [0.5232987 ]\n",
      " [0.92631623]\n",
      " [0.6733009 ]\n",
      " [0.79223353]\n",
      " [0.99010994]\n",
      " [0.67289491]\n",
      " [0.35102144]\n",
      " [0.96280852]\n",
      " [0.94878008]\n",
      " [0.94268635]\n",
      " [0.01195048]\n",
      " [0.91277933]\n",
      " [0.32056584]\n",
      " [0.5834647 ]\n",
      " [0.31142001]\n",
      " [0.98930483]\n",
      " [0.31102622]\n",
      " [0.2058881 ]\n",
      " [0.17002803]\n",
      " [0.68674134]\n",
      " [0.04368041]\n",
      " [0.70566289]\n",
      " [0.01779184]\n",
      " [0.44084746]]\n",
      "\n",
      "Matrix X- [[1.         1.99886865 1.9957032  ... 1.98826688 2.01395007 2.00062662]\n",
      " [1.         2.00824507 2.00963838 ... 2.00018576 2.01293802 2.00181264]\n",
      " [1.         1.99306628 1.99644212 ... 2.00912624 1.99873656 2.0078382 ]\n",
      " ...\n",
      " [1.         1.99752366 2.00522285 ... 1.99184052 2.00369315 2.00400072]\n",
      " [1.         2.02721963 2.00568349 ... 2.02498401 1.99368671 1.99218662]\n",
      " [1.         1.99011669 2.00785688 ... 2.0009916  2.00438991 2.00808004]]\n",
      "(100, 11)\n"
     ]
    }
   ],
   "source": [
    "#Initializing X with mean 2 and standard deviation 0.01\n",
    "X=np.random.normal(2,0.01,(100,10))\n",
    "\n",
    "#Initializing target vector Y with uniform distribution. min value-0 and mx value-1\n",
    "Y=np.random.uniform(0,1,(100,1)) \n",
    "print(\"Y vector-\",Y)\n",
    "\n",
    "#Adding column of 1s to X so that we can use X in eqn to solve for beta0 and beta1 as the above equation\n",
    "# offset is added to include the constant term(beta0)\n",
    "# Y = beta1.X + beta0 - simple eqn for Linear Regression\n",
    "X=np.hstack((np.ones((100,1)),X))\n",
    "\n",
    "print(\"\\nMatrix X-\",X)\n",
    "print(X.shape)"
   ]
  },
  {
   "cell_type": "code",
   "execution_count": 3,
   "id": "c6e68198",
   "metadata": {},
   "outputs": [
    {
     "name": "stdout",
     "output_type": "stream",
     "text": [
      "(11,)\n"
     ]
    }
   ],
   "source": [
    "# Y = (X).Beta , eqn for linear regression\n",
    "# XT.Y = (XT.X). Beta , multiply by transpose on both sides to make it square matrix\n",
    "#Now we can use these 2 matrices and find beta through gaussian elimination\n",
    "A = np.dot(X.T,X)\n",
    "B = np.dot(X.T,Y)\n",
    "n = len(B) \n",
    "target = np.zeros(n) #initialize target vector to store beta values \n",
    "print(target.shape)\n",
    "\n"
   ]
  },
  {
   "cell_type": "markdown",
   "id": "836f4288",
   "metadata": {},
   "source": [
    "Code for Gaussian Elimination"
   ]
  },
  {
   "cell_type": "code",
   "execution_count": 4,
   "id": "7cb1c8e3",
   "metadata": {},
   "outputs": [],
   "source": [
    "for k in range(0,n-1): # to iterate columns till the second last column as the value of the last elt in last col will be its corresponding beta value\n",
    "    for i in range(k+1,n): # to iterate the columns of each row\n",
    "        reciprocal = A[i,k]/A[k,k]  #ratio for the row operation to make upper triangular matrix\n",
    "        B[i] = B[i]-(B[k]*reciprocal) #same operation to be done in the other vector also \n",
    "        for j in range(k,n):\n",
    "            #print(k,i,j)\n",
    "            A[i,j] = A[i,j]-(A[k,j]*reciprocal) #making elts zero\n",
    "        "
   ]
  },
  {
   "cell_type": "markdown",
   "id": "4f459baf",
   "metadata": {},
   "source": [
    "Code for back substitution"
   ]
  },
  {
   "cell_type": "code",
   "execution_count": 5,
   "id": "ef319401",
   "metadata": {},
   "outputs": [
    {
     "name": "stdout",
     "output_type": "stream",
     "text": [
      "[ 3.298129    3.57822802 -0.07211514 -1.76963314 -5.0592923   5.84997722\n",
      " -2.4304807  -3.04969329  0.96548232  0.81032677 -0.19399452]\n"
     ]
    }
   ],
   "source": [
    "target[n-1]=B[n-1]/A[n-1,n-1]  #We can get the last beta value as the last row of A contains only one value\n",
    "\n",
    "for k in range(n-2,-1,-1):    #To iterate each row backwards\n",
    "    prev = B[k]               \n",
    "    for i in range(k+1,n):        #Iterate each col in a row\n",
    "        prev = prev - A[k,i]*target[i]\n",
    "    target[k]= prev/A[k,k]       #Beta values\n",
    "print(target)\n"
   ]
  },
  {
   "cell_type": "code",
   "execution_count": 6,
   "id": "0a5a194f",
   "metadata": {},
   "outputs": [
    {
     "data": {
      "text/plain": [
       "array([[ 3.298129  ],\n",
       "       [ 3.57822802],\n",
       "       [-0.07211514],\n",
       "       [-1.76963314],\n",
       "       [-5.0592923 ],\n",
       "       [ 5.84997722],\n",
       "       [-2.4304807 ],\n",
       "       [-3.04969329],\n",
       "       [ 0.96548232],\n",
       "       [ 0.81032677],\n",
       "       [-0.19399452]])"
      ]
     },
     "execution_count": 6,
     "metadata": {},
     "output_type": "execute_result"
    }
   ],
   "source": [
    "beta = np.linalg.lstsq(X, Y, rcond=None)[0] #Calculating beta value using lstsq\n",
    "beta"
   ]
  },
  {
   "cell_type": "markdown",
   "id": "a70148ac",
   "metadata": {},
   "source": [
    "We observe that the beta values are same as obtained by gaussian elimination hence predicted values will also be the same, graph also will be same"
   ]
  },
  {
   "cell_type": "code",
   "execution_count": 7,
   "id": "77b16d78",
   "metadata": {},
   "outputs": [
    {
     "name": "stdout",
     "output_type": "stream",
     "text": [
      "[0.54694542 0.68985269 0.40607831 0.51090788 0.37305462 0.57544843\n",
      " 0.57606223 0.5142507  0.64079634 0.50283813 0.39922203 0.46164482\n",
      " 0.70146159 0.49005053 0.54960697 0.60506861 0.50681592 0.62266082\n",
      " 0.50016947 0.54694721 0.57935702 0.53939764 0.52767358 0.49960354\n",
      " 0.53056374 0.61328928 0.37560956 0.54789452 0.54842822 0.59173355\n",
      " 0.57523827 0.35430989 0.51618361 0.54735336 0.52599956 0.42566077\n",
      " 0.43268618 0.60660187 0.60056714 0.53102181 0.61084428 0.36260752\n",
      " 0.53452839 0.54340603 0.35331327 0.40447522 0.55117414 0.5073906\n",
      " 0.55474084 0.49735401 0.5619239  0.66061367 0.7125185  0.47095342\n",
      " 0.42050681 0.52025838 0.49685793 0.60755345 0.38934959 0.70091176\n",
      " 0.64197544 0.50277801 0.43680719 0.6034232  0.33803019 0.44970928\n",
      " 0.27900591 0.59931387 0.59580568 0.64546213 0.63475817 0.65837001\n",
      " 0.5605782  0.69114603 0.56614275 0.63416118 0.40389172 0.67098371\n",
      " 0.72144055 0.67495596 0.69553203 0.53188402 0.55978283 0.47353748\n",
      " 0.76441591 0.48218492 0.4877393  0.51106864 0.59466298 0.46413779\n",
      " 0.64528866 0.50660141 0.40724007 0.5908815  0.42080661 0.4006002\n",
      " 0.3518608  0.4417744  0.5967857  0.5838657 ]\n"
     ]
    }
   ],
   "source": [
    "Y_predicted = np.matmul(X,target)  # Y values predicted using beta\n",
    "print(Y_predicted\n",
    "     )"
   ]
  },
  {
   "cell_type": "code",
   "execution_count": 8,
   "id": "eda8395a",
   "metadata": {},
   "outputs": [
    {
     "data": {
      "image/png": "[encoded data removed]",
      "text/plain": [
       "<Figure size 432x288 with 1 Axes>"
      ]
     },
     "metadata": {
      "needs_background": "light"
     },
     "output_type": "display_data"
    }
   ],
   "source": [
    "#Plotting the Y values and the Y predicted values\n",
    "\n",
    "plt.scatter(range(len(X)),Y, label=\"Traing Data\")\n",
    "plt.scatter(range(len(X)),Y_predicted,color=\"red\", label=\"Predicted Data\")\n",
    "#plt.plot(range(len(X)),Y_predicted,color=\"green\", label=\"Linear Regression Line\")\n",
    "plt.legend()\n",
    "plt.xlabel(\"$X$\", fontsize=20)\n",
    "plt.ylabel(\"$Y$\", rotation=0, fontsize=20)\n",
    "\n",
    "plt.show()\n"
   ]
  },
  {
   "cell_type": "markdown",
   "id": "cb0ba449",
   "metadata": {},
   "source": [
    "References\n",
    "\n",
    "https://www.youtube.com/watch?v=_1Ue-BASy8Q\n",
    "http://www.math-cs.gordon.edu/courses/ma342/handouts/gauss.pdf.\n",
    "\n"
   ]
  }
 ],
 "metadata": {
  "kernelspec": {
   "display_name": "Python 3",
   "language": "python",
   "name": "python3"
  },
  "language_info": {
   "codemirror_mode": {
    "name": "ipython",
    "version": 3
   },
   "file_extension": ".py",
   "mimetype": "text/x-python",
   "name": "python",
   "nbconvert_exporter": "python",
   "pygments_lexer": "ipython3",
   "version": "3.8.8"
  }
 },
 "nbformat": 4,
 "nbformat_minor": 5
}
