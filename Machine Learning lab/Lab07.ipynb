{
 "cells": [
  {
   "cell_type": "markdown",
   "id": "c6ac4c09",
   "metadata": {},
   "source": [
    "## Exercise 0: Dataset Preprocessing"
   ]
  },
  {
   "cell_type": "code",
   "execution_count": 1,
   "id": "88d7c449",
   "metadata": {},
   "outputs": [],
   "source": [
    "import numpy as np\n",
    "import pandas as pd\n",
    "import matplotlib.pyplot as plt\n",
    "from collections import Counter\n",
    "from scipy.spatial.distance import pdist\n"
   ]
  },
  {
   "cell_type": "code",
   "execution_count": 2,
   "id": "07638265",
   "metadata": {},
   "outputs": [
    {
     "name": "stdout",
     "output_type": "stream",
     "text": [
      "128\n"
     ]
    }
   ],
   "source": [
    "import os\n",
    "from glob import glob\n",
    "PATH = \"Downloads/UCRArchive_2018\"\n",
    "EXT = \"*.tsv\"\n",
    "\n",
    "#Extracting the directory list\n",
    "all_tsv_files = [file\n",
    "                    for path, subdir, files in os.walk(PATH)\n",
    "                    for file in glob(os.path.join(path, EXT))]\n",
    "#print(all_csv_files)\n",
    "dirs = os.listdir(PATH)\n",
    "dirs.remove('.DS_Store')\n",
    "#print(dirs)\n",
    "df_list = []\n",
    "name_list = []\n",
    "for i in dirs:  #traversing through each sub directory to merge train and test sets\n",
    "    path = f'Downloads/UCRArchive_2018/{i}/{i}'\n",
    "    if i != 'Missing_value_and_variable_length_datasets_adjusted':\n",
    "        #print(i)\n",
    "        train = pd.read_csv(path+'_TRAIN.tsv', sep = '\\t', header=None)\n",
    "        test = pd.read_csv(path+'_TEST.tsv', sep = '\\t', header=None)\n",
    "\n",
    "        df = pd.concat((train,test),axis=0) #merging\n",
    "        df.rename(lambda x : str(x), axis = 1 ,inplace=True)\n",
    "        \n",
    "        mean = df.mean(axis=0)  #Finding mean and standard deviation of each set\n",
    "        std = df.std(axis=0)\n",
    "        \n",
    "        \n",
    "        df.iloc[:,1:] = (df.iloc[:,1:] - mean)/std  #normalization of datasets\n",
    "        df_list.append(df)  #Appending the data sets and their names\n",
    "        name_list.append(i)\n",
    "\n",
    "print(len(df_list))"
   ]
  },
  {
   "cell_type": "code",
   "execution_count": 3,
   "id": "319fc8c3",
   "metadata": {},
   "outputs": [
    {
     "name": "stdout",
     "output_type": "stream",
     "text": [
      "['Haptics', 'SyntheticControl', 'Worms', 'Computers', 'HouseTwenty', 'GestureMidAirD3', 'Chinatown', 'UWaveGestureLibraryAll', 'Strawberry', 'Car', 'GunPointAgeSpan', 'GestureMidAirD2', 'BeetleFly', 'Wafer', 'CBF', 'Adiac', 'ItalyPowerDemand', 'Yoga', 'AllGestureWiimoteY', 'Trace', 'PigAirwayPressure', 'ShapesAll', 'Beef', 'GesturePebbleZ2', 'Mallat', 'GunPointOldVersusYoung', 'MiddlePhalanxTW', 'AllGestureWiimoteX', 'Meat', 'Herring', 'MiddlePhalanxOutlineCorrect', 'InsectEPGRegularTrain', 'FordA', 'SwedishLeaf', 'InlineSkate', 'DodgerLoopDay', 'UMD', 'CricketY', 'WormsTwoClass', 'SmoothSubspace', 'OSULeaf', 'Ham', 'CricketX', 'SonyAIBORobotSurface1', 'ToeSegmentation1', 'ScreenType', 'PigArtPressure', 'SmallKitchenAppliances', 'Crop', 'MoteStrain', 'MelbournePedestrian', 'ECGFiveDays', 'Wine', 'SemgHandMovementCh2', 'FreezerSmallTrain', 'UWaveGestureLibraryZ', 'NonInvasiveFetalECGThorax1', 'TwoLeadECG', 'Lightning7', 'Phoneme', 'SemgHandSubjectCh2', 'DodgerLoopWeekend', 'MiddlePhalanxOutlineAgeGroup', 'GestureMidAirD1', 'DistalPhalanxOutlineCorrect', 'DistalPhalanxTW', 'FacesUCR', 'ECG5000', 'ShakeGestureWiimoteZ', 'GesturePebbleZ1', 'HandOutlines', 'GunPointMaleVersusFemale', 'Coffee', 'Rock', 'MixedShapesSmallTrain', 'AllGestureWiimoteZ', 'FordB', 'FiftyWords', 'InsectWingbeatSound', 'MedicalImages', 'Symbols', 'ArrowHead', 'ProximalPhalanxOutlineAgeGroup', 'EOGHorizontalSignal', 'TwoPatterns', 'ChlorineConcentration', 'Plane', 'ACSF1', 'PhalangesOutlinesCorrect', 'ShapeletSim', 'DistalPhalanxOutlineAgeGroup', 'InsectEPGSmallTrain', 'PickupGestureWiimoteZ', 'EOGVerticalSignal', 'CricketZ', 'FaceFour', 'RefrigerationDevices', 'PLAID', 'MixedShapesRegularTrain', 'GunPoint', 'DodgerLoopGame', 'ECG200', 'ToeSegmentation2', 'WordSynonyms', 'Fungi', 'BirdChicken', 'SemgHandGenderCh2', 'OliveOil', 'BME', 'LargeKitchenAppliances', 'SonyAIBORobotSurface2', 'Lightning2', 'EthanolLevel', 'UWaveGestureLibraryX', 'FreezerRegularTrain', 'Fish', 'ProximalPhalanxOutlineCorrect', 'NonInvasiveFetalECGThorax2', 'UWaveGestureLibraryY', 'FaceAll', 'StarLightCurves', 'ElectricDevices', 'Earthquakes', 'PowerCons', 'DiatomSizeReduction', 'CinCECGTorso', 'PigCVP', 'ProximalPhalanxTW']\n"
     ]
    }
   ],
   "source": [
    "print(name_list)"
   ]
  },
  {
   "cell_type": "code",
   "execution_count": 4,
   "id": "ef90226a",
   "metadata": {},
   "outputs": [
    {
     "name": "stdout",
     "output_type": "stream",
     "text": [
      "     0   1         2         3         4         5         6         7  \\\n",
      "0    5 NaN  0.518946 -0.779491 -0.521703 -0.153770 -0.206354 -0.208593   \n",
      "1    2 NaN  0.628013 -0.703497 -0.637235  1.297243  1.347831  1.353957   \n",
      "2    4 NaN  0.013461  0.324697  0.781660  0.279801  0.295622  0.347937   \n",
      "3    3 NaN  1.078743 -0.703667  0.250283  0.238052  0.204340  0.179902   \n",
      "4    5 NaN  0.660477 -1.008926 -0.212049  0.087863  0.093671  0.120723   \n",
      "..  ..  ..       ...       ...       ...       ...       ...       ...   \n",
      "303  3 NaN  0.360552  0.150532 -0.859037  0.609707  0.642581  0.641472   \n",
      "304  4 NaN -0.658304 -0.171879  1.037005 -0.135317 -0.144805 -0.239020   \n",
      "305  1 NaN  0.094399 -0.059132  0.526768  0.519987  0.477199  0.464348   \n",
      "306  2 NaN  0.421219  0.060157  0.241965  0.482527  0.508067  0.557591   \n",
      "307  3 NaN  1.450772  1.301938 -1.677016 -2.622326 -2.601326 -2.546164   \n",
      "\n",
      "            8         9  ...      1083      1084      1085      1086  \\\n",
      "0   -0.263471 -0.298217  ... -0.552797  0.148668  0.120412  0.115751   \n",
      "1    1.369433  1.413885  ... -0.576738  1.039378  1.042732  1.071161   \n",
      "2    0.358523  0.368524  ...  0.745149  0.119491  0.108670  0.128466   \n",
      "3    0.170851  0.170222  ...  0.270081  0.313019  0.292842  0.282256   \n",
      "4    0.089384  0.109005  ... -0.243909 -0.098168 -0.090626 -0.030051   \n",
      "..        ...       ...  ...       ...       ...       ...       ...   \n",
      "303  0.648689  0.682230  ... -0.833502  0.846614  0.797299  0.765728   \n",
      "304 -0.257062 -0.365515  ...  1.058547  0.437178  0.379631  0.315907   \n",
      "305  0.398120  0.323931  ...  0.553018  0.721583  0.680065  0.677615   \n",
      "306  0.632410  0.657327  ...  0.219398  0.105245  0.135200  0.182170   \n",
      "307 -2.471068 -2.422181  ... -1.678408 -2.843161 -2.845649 -2.836673   \n",
      "\n",
      "         1087      1088      1089      1090      1091      1092  \n",
      "0    0.054529  0.044068  0.003114 -0.040167 -0.031914 -0.099358  \n",
      "1    1.133323  1.128862  1.162384  1.214810  1.218879  1.269304  \n",
      "2    0.171048  0.160170  0.178294  0.235192  0.223535  0.243286  \n",
      "3    0.285450  0.303024  0.283380  0.266027  0.259021  0.260695  \n",
      "4   -0.034363  0.011950  0.017648  0.024861  0.072857  0.057905  \n",
      "..        ...       ...       ...       ...       ...       ...  \n",
      "303  0.764587  0.707615  0.685974  0.682182  0.639493  0.641333  \n",
      "304  0.264081  0.202338  0.163593  0.093383  0.063237 -0.018182  \n",
      "305  0.693789  0.652233  0.639120  0.661539  0.606182  0.582739  \n",
      "306  0.249254  0.330824  0.357158  0.382733  0.416263  0.460360  \n",
      "307 -2.787305 -2.789231 -2.781704 -2.742332 -2.732713 -2.711567  \n",
      "\n",
      "[463 rows x 1093 columns]\n",
      "Haptics\n"
     ]
    }
   ],
   "source": [
    "print(df_list[0])\n",
    "print(name_list[0])"
   ]
  },
  {
   "cell_type": "markdown",
   "id": "4032baa2",
   "metadata": {},
   "source": [
    "Function to implement stratifies sampling and splitting into train, test and validation sets according to the ratio given (70 :15 :15 ). Then we will further put the target values (y values ) to a different data set"
   ]
  },
  {
   "cell_type": "code",
   "execution_count": 5,
   "id": "19914ee7",
   "metadata": {},
   "outputs": [],
   "source": [
    "def sampling(df):\n",
    "    df = df.sample(frac = 1,random_state = 3116)\n",
    "    classes = df.iloc[:,0].nunique() # Finding the number of samples in each class\n",
    "    \n",
    "    #print(classes)\n",
    "    df_groups = df.groupby(by='0')  # grouping data according to the target class which is the first column\n",
    "    #print(len(df_groups))\n",
    "    train = pd.DataFrame()\n",
    "    val = pd.DataFrame()\n",
    "    test = pd.DataFrame()\n",
    "\n",
    "    \n",
    "    for count, num in df_groups: # splitting into sets based on the strata (from groupby)\n",
    "        train = train.append(num.iloc[:int(0.7*len(num))])\n",
    "        val = val.append(num.iloc[int(0.7*len(num)):int(0.85*len(num))])\n",
    "        test = test.append(num.iloc[int(0.85*len(num)):])\n",
    "    \n",
    "    y_train = np.array(train.iloc[:,0])   # removing y values to a different array\n",
    "    x_train = np.array(train.iloc[:,1:])\n",
    "    y_test = np.array(test.iloc[:,0])\n",
    "    x_test = np.array(test.iloc[:,1:])\n",
    "    y_val = np.array(val.iloc[:,0])\n",
    "    x_val = np.array(val.iloc[:,1:])\n",
    "    \n",
    "    #print(x_test)\n",
    "    \n",
    "    return x_train,y_train,x_val,y_val,x_test,y_test"
   ]
  },
  {
   "cell_type": "code",
   "execution_count": 6,
   "id": "542f8ab9",
   "metadata": {},
   "outputs": [
    {
     "name": "stdout",
     "output_type": "stream",
     "text": [
      "(70, 1092)\n",
      "1092\n",
      "(70, 1092)\n"
     ]
    }
   ],
   "source": [
    "count = 0\n",
    "new_list = []\n",
    "new_names = []\n",
    "x_train_list = []\n",
    "y_train_list = []\n",
    "x_val_list = []\n",
    "y_val_list = []\n",
    "x_test_list = []\n",
    "y_test_list = []\n",
    "\n",
    "# Since there is limitation in the resources ( time and memory) I am only considering 5 data sets. \n",
    "# Only those data sets with Nan values ( missing values ) are taken for performing KNN\n",
    "\n",
    "for i in range (len(df_list)):\n",
    "    while (count < 5):\n",
    "        if df_list[i].isna().any().any(): # checking if missing values are present\n",
    "            new_list.append(df_list[i])   # appending to new list\n",
    "            new_names.append(name_list[i])\n",
    "            \n",
    "            x_train,y_train,x_val,y_val,x_test,y_test = sampling(df_list[i]) # performing sampling and partitioning\n",
    "            \n",
    "            x_train_list.append(x_train)\n",
    "            y_train_list.append(y_train)\n",
    "            x_test_list.append(x_test)\n",
    "            y_test_list.append(y_test)\n",
    "            x_val_list.append(x_val)\n",
    "            y_val_list.append(y_val)\n",
    "            \n",
    "            count+=1\n",
    "\n",
    "print((x_test.shape))\n",
    "print(x_train.shape[1])\n",
    "print(x_val.shape)"
   ]
  },
  {
   "cell_type": "markdown",
   "id": "fab07cd1",
   "metadata": {},
   "source": [
    "A plot indicating the total length of samples (across all datasets)"
   ]
  },
  {
   "cell_type": "code",
   "execution_count": 7,
   "id": "e18daaf9",
   "metadata": {},
   "outputs": [
    {
     "data": {
      "image/png": "[encoded data removed]",
      "text/plain": [
       "<Figure size 432x288 with 1 Axes>"
      ]
     },
     "metadata": {
      "needs_background": "light"
     },
     "output_type": "display_data"
    }
   ],
   "source": [
    "list_samples = []\n",
    "for i in range(len(df_list)):\n",
    "    list_samples.append(df_list[i].shape[1])\n",
    "\n",
    "plt.hist(list_samples,bins=len(df_list))\n",
    "plt.title('Histogram plot of total length of samples across datasets')\n",
    "plt.xlabel('Length of sample')\n",
    "plt.ylabel('Number of datasets')\n",
    "plt.show()"
   ]
  },
  {
   "cell_type": "markdown",
   "id": "d1755757",
   "metadata": {},
   "source": [
    "We observe that most data sets have length of sample(features) between 0 and 500."
   ]
  },
  {
   "cell_type": "markdown",
   "id": "c70dcf53",
   "metadata": {},
   "source": [
    "A plot indicating the total number of classes  (across all datasets)"
   ]
  },
  {
   "cell_type": "code",
   "execution_count": 8,
   "id": "e271bb56",
   "metadata": {},
   "outputs": [
    {
     "data": {
      "image/png": "[encoded data removed]",
      "text/plain": [
       "<Figure size 432x288 with 1 Axes>"
      ]
     },
     "metadata": {
      "needs_background": "light"
     },
     "output_type": "display_data"
    }
   ],
   "source": [
    "class_list = []\n",
    "for i in range(len(df_list)):\n",
    "        class_list.append(df_list[i].iloc[:,0].nunique())\n",
    "plt.hist(class_list,bins=len(df_list))\n",
    "plt.title('Histogram plot of number of classes across the dataset')\n",
    "plt.xlabel('Number of classes')\n",
    "plt.ylabel('Number of datasets')\n",
    "plt.show()"
   ]
  },
  {
   "cell_type": "markdown",
   "id": "3d433f8c",
   "metadata": {},
   "source": [
    "We observe that most datasets have classes between 0 and 10"
   ]
  },
  {
   "cell_type": "markdown",
   "id": "ef07fac6",
   "metadata": {},
   "source": [
    "A plot indicating the total number of samples (across all datasets)"
   ]
  },
  {
   "cell_type": "code",
   "execution_count": 9,
   "id": "da978c6e",
   "metadata": {},
   "outputs": [
    {
     "data": {
      "image/png": "[encoded data removed]",
      "text/plain": [
       "<Figure size 432x288 with 1 Axes>"
      ]
     },
     "metadata": {
      "needs_background": "light"
     },
     "output_type": "display_data"
    }
   ],
   "source": [
    "len_list = []\n",
    "for i in range(len(df_list)):\n",
    "    len_list.append(len(df_list[i]))\n",
    "plt.hist(len_list,bins=len(df_list))\n",
    "plt.title('Histogram plot of number of samples across dataset')\n",
    "plt.xlabel('Number of samples')\n",
    "plt.ylabel('Number of datasets')\n",
    "plt.show()\n"
   ]
  },
  {
   "cell_type": "markdown",
   "id": "ceaec065",
   "metadata": {},
   "source": [
    "We observe that the number of samples or length of the data set is most commonly between 0 - 5000."
   ]
  },
  {
   "cell_type": "markdown",
   "id": "42bfab78",
   "metadata": {},
   "source": [
    "## Exercise 1: Dataset Imputation with KNN"
   ]
  },
  {
   "cell_type": "markdown",
   "id": "99586cbc",
   "metadata": {},
   "source": [
    "For KNN, due to memory and time constraints , we are only taking 5 datasets which has missing values into consideration. Code for the selection of dataset is written above"
   ]
  },
  {
   "cell_type": "markdown",
   "id": "3105b415",
   "metadata": {},
   "source": [
    "Function to find the euclidean distance between different values and to find the new value as the mean of the lowest distance neighbours.\n",
    "The number of neighbours to be taken is defined by the choice of k."
   ]
  },
  {
   "cell_type": "code",
   "execution_count": 25,
   "id": "558678b0",
   "metadata": {},
   "outputs": [],
   "source": [
    "def k_neighbour(required,others,k_list):\n",
    "    x = (required - others)**2 # finding eucleidian distance between the required row and all other rows\n",
    "    dist = np.sqrt(np.nansum(x,axis = -1))\n",
    "    #print(len(dist))\n",
    "    neighbours = np.arange(0,len(others),1)\n",
    "    #print(neighbours)\n",
    "    sorted_neighbours = sorted(neighbours, key = lambda i : dist[i])  # sort neighbors in ascending order by their distance\n",
    "    prediction = []\n",
    "    for k in k_list:\n",
    "        nearest_neighbours = sorted_neighbours[:k]\n",
    "        nearest_neighbours = others[nearest_neighbours] \n",
    "        prediction.append(np.nanmean(nearest_neighbours,axis = 0)) # finding average of the nearest neighbours and appending the same\n",
    "        \n",
    "    return prediction\n",
    "\n"
   ]
  },
  {
   "cell_type": "markdown",
   "id": "faaf8e2a",
   "metadata": {},
   "source": [
    "Function to implement grid search to find the best k value. The rmse value score is taken to find the best k. The k value resulting in minimum error between true value and predicted value is selected."
   ]
  },
  {
   "cell_type": "code",
   "execution_count": 26,
   "id": "f5f34ad4",
   "metadata": {},
   "outputs": [],
   "source": [
    "\n",
    "def grid_search(df):\n",
    "    val = np.arange(1,5) # here I am taking 5 k values.\n",
    "    predicted_values = np.zeros((len(val),len(df),df.shape[-1]-1))\n",
    "    #print(len(df))\n",
    "    for i in range(len(df)):\n",
    "        required = df.iloc[i,1:].to_numpy()  # The missing value row\n",
    "        sub = df.drop(index = i)\n",
    "        others = sub.iloc[:,1:].to_numpy()   # The other rows\n",
    "        predicted_values[:,i,:] = k_neighbour(required,others,val)\n",
    "    original_values = df[:,1:].to_numpy()\n",
    "    \n",
    "    \n",
    "    error_square = (predicted_values-original_values)**2 # Finding rmse value\n",
    "    mean_per_sample = np.nanmean(error_square,axis = -1)                 # ignore missing values\n",
    "    mean_per_dataset = np.nanmean(mean_per_sample,axis = -1)    \n",
    "    rmse = np.sqrt(mean_per_dataset)\n",
    "    best_k = val[np.argmin(rmse)]  # Finding best k \n",
    "    return best_k"
   ]
  },
  {
   "cell_type": "code",
   "execution_count": null,
   "id": "67a6f291",
   "metadata": {},
   "outputs": [],
   "source": [
    "\n",
    "    "
   ]
  },
  {
   "cell_type": "markdown",
   "id": "fe624eee",
   "metadata": {},
   "source": [
    "Function to call gridsearch and find best k for each data set."
   ]
  },
  {
   "cell_type": "code",
   "execution_count": 27,
   "id": "792265fa",
   "metadata": {},
   "outputs": [
    {
     "name": "stderr",
     "output_type": "stream",
     "text": [
      "<ipython-input-25-79e04dafbfa7>:12: RuntimeWarning: Mean of empty slice\n",
      "  prediction.append(np.nanmean(nearest_neighbours,axis = 0)) # finding average of the nearest neighbours and appending the same\n"
     ]
    },
    {
     "ename": "KeyError",
     "evalue": "'[308] not found in axis'",
     "output_type": "error",
     "traceback": [
      "\u001b[0;31m---------------------------------------------------------------------------\u001b[0m",
      "\u001b[0;31mKeyError\u001b[0m                                  Traceback (most recent call last)",
      "\u001b[0;32m<ipython-input-27-93da804a9530>\u001b[0m in \u001b[0;36m<module>\u001b[0;34m\u001b[0m\n\u001b[1;32m      1\u001b[0m \u001b[0;32mfor\u001b[0m \u001b[0mi\u001b[0m \u001b[0;32min\u001b[0m \u001b[0mrange\u001b[0m\u001b[0;34m(\u001b[0m\u001b[0mlen\u001b[0m\u001b[0;34m(\u001b[0m\u001b[0mnew_list\u001b[0m\u001b[0;34m)\u001b[0m\u001b[0;34m)\u001b[0m\u001b[0;34m:\u001b[0m\u001b[0;34m\u001b[0m\u001b[0;34m\u001b[0m\u001b[0m\n\u001b[0;32m----> 2\u001b[0;31m     \u001b[0mbest_k\u001b[0m \u001b[0;34m=\u001b[0m \u001b[0mgrid_search\u001b[0m\u001b[0;34m(\u001b[0m\u001b[0mnew_list\u001b[0m\u001b[0;34m[\u001b[0m\u001b[0mi\u001b[0m\u001b[0;34m]\u001b[0m\u001b[0;34m)\u001b[0m\u001b[0;34m\u001b[0m\u001b[0;34m\u001b[0m\u001b[0m\n\u001b[0m\u001b[1;32m      3\u001b[0m     \u001b[0mprint\u001b[0m\u001b[0;34m(\u001b[0m\u001b[0;34m\"best_k \"\u001b[0m\u001b[0;34m,\u001b[0m\u001b[0mbest_k\u001b[0m\u001b[0;34m)\u001b[0m\u001b[0;34m\u001b[0m\u001b[0;34m\u001b[0m\u001b[0m\n\u001b[1;32m      4\u001b[0m \u001b[0;34m\u001b[0m\u001b[0m\n\u001b[1;32m      5\u001b[0m \u001b[0;34m\u001b[0m\u001b[0m\n",
      "\u001b[0;32m<ipython-input-26-a01dc865f857>\u001b[0m in \u001b[0;36mgrid_search\u001b[0;34m(df)\u001b[0m\n\u001b[1;32m      5\u001b[0m     \u001b[0;32mfor\u001b[0m \u001b[0mi\u001b[0m \u001b[0;32min\u001b[0m \u001b[0mrange\u001b[0m\u001b[0;34m(\u001b[0m\u001b[0mlen\u001b[0m\u001b[0;34m(\u001b[0m\u001b[0mdf\u001b[0m\u001b[0;34m)\u001b[0m\u001b[0;34m)\u001b[0m\u001b[0;34m:\u001b[0m\u001b[0;34m\u001b[0m\u001b[0;34m\u001b[0m\u001b[0m\n\u001b[1;32m      6\u001b[0m         \u001b[0mrequired\u001b[0m \u001b[0;34m=\u001b[0m \u001b[0mdf\u001b[0m\u001b[0;34m.\u001b[0m\u001b[0miloc\u001b[0m\u001b[0;34m[\u001b[0m\u001b[0mi\u001b[0m\u001b[0;34m,\u001b[0m\u001b[0;36m1\u001b[0m\u001b[0;34m:\u001b[0m\u001b[0;34m]\u001b[0m\u001b[0;34m.\u001b[0m\u001b[0mto_numpy\u001b[0m\u001b[0;34m(\u001b[0m\u001b[0;34m)\u001b[0m  \u001b[0;31m# The missing value row\u001b[0m\u001b[0;34m\u001b[0m\u001b[0;34m\u001b[0m\u001b[0m\n\u001b[0;32m----> 7\u001b[0;31m         \u001b[0msub\u001b[0m \u001b[0;34m=\u001b[0m \u001b[0mdf\u001b[0m\u001b[0;34m.\u001b[0m\u001b[0mdrop\u001b[0m\u001b[0;34m(\u001b[0m\u001b[0mindex\u001b[0m \u001b[0;34m=\u001b[0m \u001b[0mi\u001b[0m\u001b[0;34m)\u001b[0m\u001b[0;34m\u001b[0m\u001b[0;34m\u001b[0m\u001b[0m\n\u001b[0m\u001b[1;32m      8\u001b[0m         \u001b[0mothers\u001b[0m \u001b[0;34m=\u001b[0m \u001b[0msub\u001b[0m\u001b[0;34m.\u001b[0m\u001b[0miloc\u001b[0m\u001b[0;34m[\u001b[0m\u001b[0;34m:\u001b[0m\u001b[0;34m,\u001b[0m\u001b[0;36m1\u001b[0m\u001b[0;34m:\u001b[0m\u001b[0;34m]\u001b[0m\u001b[0;34m.\u001b[0m\u001b[0mto_numpy\u001b[0m\u001b[0;34m(\u001b[0m\u001b[0;34m)\u001b[0m   \u001b[0;31m# The other rows\u001b[0m\u001b[0;34m\u001b[0m\u001b[0;34m\u001b[0m\u001b[0m\n\u001b[1;32m      9\u001b[0m         \u001b[0mpredicted_values\u001b[0m\u001b[0;34m[\u001b[0m\u001b[0;34m:\u001b[0m\u001b[0;34m,\u001b[0m\u001b[0mi\u001b[0m\u001b[0;34m,\u001b[0m\u001b[0;34m:\u001b[0m\u001b[0;34m]\u001b[0m \u001b[0;34m=\u001b[0m \u001b[0mk_neighbour\u001b[0m\u001b[0;34m(\u001b[0m\u001b[0mrequired\u001b[0m\u001b[0;34m,\u001b[0m\u001b[0mothers\u001b[0m\u001b[0;34m,\u001b[0m\u001b[0mval\u001b[0m\u001b[0;34m)\u001b[0m\u001b[0;34m\u001b[0m\u001b[0;34m\u001b[0m\u001b[0m\n",
      "\u001b[0;32m/opt/anaconda3/lib/python3.8/site-packages/pandas/core/frame.py\u001b[0m in \u001b[0;36mdrop\u001b[0;34m(self, labels, axis, index, columns, level, inplace, errors)\u001b[0m\n\u001b[1;32m   4306\u001b[0m                 \u001b[0mweight\u001b[0m  \u001b[0;36m1.0\u001b[0m     \u001b[0;36m0.8\u001b[0m\u001b[0;34m\u001b[0m\u001b[0;34m\u001b[0m\u001b[0m\n\u001b[1;32m   4307\u001b[0m         \"\"\"\n\u001b[0;32m-> 4308\u001b[0;31m         return super().drop(\n\u001b[0m\u001b[1;32m   4309\u001b[0m             \u001b[0mlabels\u001b[0m\u001b[0;34m=\u001b[0m\u001b[0mlabels\u001b[0m\u001b[0;34m,\u001b[0m\u001b[0;34m\u001b[0m\u001b[0;34m\u001b[0m\u001b[0m\n\u001b[1;32m   4310\u001b[0m             \u001b[0maxis\u001b[0m\u001b[0;34m=\u001b[0m\u001b[0maxis\u001b[0m\u001b[0;34m,\u001b[0m\u001b[0;34m\u001b[0m\u001b[0;34m\u001b[0m\u001b[0m\n",
      "\u001b[0;32m/opt/anaconda3/lib/python3.8/site-packages/pandas/core/generic.py\u001b[0m in \u001b[0;36mdrop\u001b[0;34m(self, labels, axis, index, columns, level, inplace, errors)\u001b[0m\n\u001b[1;32m   4151\u001b[0m         \u001b[0;32mfor\u001b[0m \u001b[0maxis\u001b[0m\u001b[0;34m,\u001b[0m \u001b[0mlabels\u001b[0m \u001b[0;32min\u001b[0m \u001b[0maxes\u001b[0m\u001b[0;34m.\u001b[0m\u001b[0mitems\u001b[0m\u001b[0;34m(\u001b[0m\u001b[0;34m)\u001b[0m\u001b[0;34m:\u001b[0m\u001b[0;34m\u001b[0m\u001b[0;34m\u001b[0m\u001b[0m\n\u001b[1;32m   4152\u001b[0m             \u001b[0;32mif\u001b[0m \u001b[0mlabels\u001b[0m \u001b[0;32mis\u001b[0m \u001b[0;32mnot\u001b[0m \u001b[0;32mNone\u001b[0m\u001b[0;34m:\u001b[0m\u001b[0;34m\u001b[0m\u001b[0;34m\u001b[0m\u001b[0m\n\u001b[0;32m-> 4153\u001b[0;31m                 \u001b[0mobj\u001b[0m \u001b[0;34m=\u001b[0m \u001b[0mobj\u001b[0m\u001b[0;34m.\u001b[0m\u001b[0m_drop_axis\u001b[0m\u001b[0;34m(\u001b[0m\u001b[0mlabels\u001b[0m\u001b[0;34m,\u001b[0m \u001b[0maxis\u001b[0m\u001b[0;34m,\u001b[0m \u001b[0mlevel\u001b[0m\u001b[0;34m=\u001b[0m\u001b[0mlevel\u001b[0m\u001b[0;34m,\u001b[0m \u001b[0merrors\u001b[0m\u001b[0;34m=\u001b[0m\u001b[0merrors\u001b[0m\u001b[0;34m)\u001b[0m\u001b[0;34m\u001b[0m\u001b[0;34m\u001b[0m\u001b[0m\n\u001b[0m\u001b[1;32m   4154\u001b[0m \u001b[0;34m\u001b[0m\u001b[0m\n\u001b[1;32m   4155\u001b[0m         \u001b[0;32mif\u001b[0m \u001b[0minplace\u001b[0m\u001b[0;34m:\u001b[0m\u001b[0;34m\u001b[0m\u001b[0;34m\u001b[0m\u001b[0m\n",
      "\u001b[0;32m/opt/anaconda3/lib/python3.8/site-packages/pandas/core/generic.py\u001b[0m in \u001b[0;36m_drop_axis\u001b[0;34m(self, labels, axis, level, errors)\u001b[0m\n\u001b[1;32m   4205\u001b[0m                 \u001b[0mlabels_missing\u001b[0m \u001b[0;34m=\u001b[0m \u001b[0;34m(\u001b[0m\u001b[0maxis\u001b[0m\u001b[0;34m.\u001b[0m\u001b[0mget_indexer_for\u001b[0m\u001b[0;34m(\u001b[0m\u001b[0mlabels\u001b[0m\u001b[0;34m)\u001b[0m \u001b[0;34m==\u001b[0m \u001b[0;34m-\u001b[0m\u001b[0;36m1\u001b[0m\u001b[0;34m)\u001b[0m\u001b[0;34m.\u001b[0m\u001b[0many\u001b[0m\u001b[0;34m(\u001b[0m\u001b[0;34m)\u001b[0m\u001b[0;34m\u001b[0m\u001b[0;34m\u001b[0m\u001b[0m\n\u001b[1;32m   4206\u001b[0m                 \u001b[0;32mif\u001b[0m \u001b[0merrors\u001b[0m \u001b[0;34m==\u001b[0m \u001b[0;34m\"raise\"\u001b[0m \u001b[0;32mand\u001b[0m \u001b[0mlabels_missing\u001b[0m\u001b[0;34m:\u001b[0m\u001b[0;34m\u001b[0m\u001b[0;34m\u001b[0m\u001b[0m\n\u001b[0;32m-> 4207\u001b[0;31m                     \u001b[0;32mraise\u001b[0m \u001b[0mKeyError\u001b[0m\u001b[0;34m(\u001b[0m\u001b[0;34mf\"{labels} not found in axis\"\u001b[0m\u001b[0;34m)\u001b[0m\u001b[0;34m\u001b[0m\u001b[0;34m\u001b[0m\u001b[0m\n\u001b[0m\u001b[1;32m   4208\u001b[0m \u001b[0;34m\u001b[0m\u001b[0m\n\u001b[1;32m   4209\u001b[0m             \u001b[0mslicer\u001b[0m \u001b[0;34m=\u001b[0m \u001b[0;34m[\u001b[0m\u001b[0mslice\u001b[0m\u001b[0;34m(\u001b[0m\u001b[0;32mNone\u001b[0m\u001b[0;34m)\u001b[0m\u001b[0;34m]\u001b[0m \u001b[0;34m*\u001b[0m \u001b[0mself\u001b[0m\u001b[0;34m.\u001b[0m\u001b[0mndim\u001b[0m\u001b[0;34m\u001b[0m\u001b[0;34m\u001b[0m\u001b[0m\n",
      "\u001b[0;31mKeyError\u001b[0m: '[308] not found in axis'"
     ]
    }
   ],
   "source": [
    "for i in range(len(new_list)):\n",
    "    best_k = grid_search(new_list[i])\n",
    "    print(\"best_k \",best_k)\n",
    "    \n",
    "    \n",
    "    "
   ]
  },
  {
   "cell_type": "code",
   "execution_count": null,
   "id": "e931542c",
   "metadata": {},
   "outputs": [],
   "source": []
  },
  {
   "cell_type": "markdown",
   "id": "a9549be0",
   "metadata": {},
   "source": [
    "## Exercise 2: Time Series Classification with Various Distance Measures"
   ]
  },
  {
   "cell_type": "markdown",
   "id": "e3449ea5",
   "metadata": {},
   "source": [
    "For a selected number of datasets - to tune k using different distance measures provided in scipy library.\n",
    "\n",
    "The distance function can be ‘braycurtis’, ‘canberra’, ‘chebyshev’, ‘cityblock’, ‘correlation’, ‘cosine’, ‘dice’, ‘euclidean’, ‘hamming’, ‘jaccard’, ‘jensenshannon’, ‘kulsinski’, ‘mahalanobis’, ‘matching’, ‘minkowski’, ‘rogerstanimoto’, ‘russellrao’, ‘seuclidean’, ‘sokalmichener’, ‘sokalsneath’, ‘sqeuclidean’, ‘yule’"
   ]
  },
  {
   "cell_type": "code",
   "execution_count": null,
   "id": "827fd9e9",
   "metadata": {},
   "outputs": [],
   "source": [
    "distance_metrics = [\"hamming\", \"jaccard\", \"euclidean\",\"canberra\"]\n",
    "# Taking a random 4 measures due to limitation in time and memory\n",
    "\n",
    "for i in range(len(new_list)):\n",
    "    "
   ]
  },
  {
   "cell_type": "code",
   "execution_count": null,
   "id": "6a2fa4c2",
   "metadata": {},
   "outputs": [],
   "source": []
  },
  {
   "cell_type": "markdown",
   "id": "ad053b95",
   "metadata": {},
   "source": [
    "## Exercise 3: Accelerating K-Nearest Neighbour Classifier"
   ]
  },
  {
   "cell_type": "markdown",
   "id": "11b5e74e",
   "metadata": {},
   "source": [
    "To implement the speed up strategies - Partial distances/ Lower Bounding and Local sensitive hashing on a data set with largest number of samples using euclidean distance measure."
   ]
  },
  {
   "cell_type": "code",
   "execution_count": 20,
   "id": "a0cd1ad1",
   "metadata": {},
   "outputs": [
    {
     "name": "stdout",
     "output_type": "stream",
     "text": [
      "data set with the largest no of samples is  Crop  with length  24000\n",
      "48\n"
     ]
    }
   ],
   "source": [
    "largest=[]\n",
    "maximum = 0\n",
    "\n",
    "for i in range(len(df_list)):\n",
    "    \n",
    "    if df_list[i].shape[0] > maximum:\n",
    "        largest = i\n",
    "        maximum = df_list[i].shape[0]\n",
    "print(\"data set with the largest no of samples is \",name_list[largest],\" with length \",maximum)\n",
    "print(largest)"
   ]
  },
  {
   "cell_type": "code",
   "execution_count": 21,
   "id": "39d73b12",
   "metadata": {},
   "outputs": [
    {
     "name": "stdout",
     "output_type": "stream",
     "text": [
      "        0   1         2         3         4         5         6         7  \\\n",
      "0       1 NaN -0.694745 -1.098673 -1.205364 -1.238293 -1.022852 -1.031144   \n",
      "1       1 NaN -0.825449 -1.209931 -1.128444 -0.991480 -0.183841  0.083845   \n",
      "2       1 NaN -0.439562 -0.959679 -1.060573 -1.141186 -0.880133 -0.758819   \n",
      "3       1 NaN -1.410503 -1.571802 -1.602408 -1.489153 -1.321263 -1.375403   \n",
      "4       1 NaN -1.460295 -1.209931 -1.191790 -1.040033 -0.616321 -0.486495   \n",
      "...    ..  ..       ...       ...       ...       ...       ...       ...   \n",
      "16795  24 NaN  3.176573 -1.575533 -1.390877 -0.995526 -1.615349 -1.385680   \n",
      "16796  24 NaN  0.680756 -1.224541 -1.359204 -1.096679 -1.161245 -1.246948   \n",
      "16797  24 NaN -0.445786 -1.332788 -1.123919 -0.704206 -1.368836 -0.835892   \n",
      "16798  24 NaN -0.022555 -0.983684 -0.716695 -0.433116 -1.239092 -0.712576   \n",
      "16799  24 NaN -1.485191 -2.500078 -2.255098 -1.614582 -1.874837 -1.991987   \n",
      "\n",
      "              8         9  ...        37        38        39        40  \\\n",
      "0     -0.849420 -0.519039  ... -0.535750 -0.541359 -0.454034 -0.319219   \n",
      "1      0.765130  1.214162  ... -0.187419 -0.372554 -0.628060 -0.834940   \n",
      "2     -0.490631  0.180751  ... -0.604556 -0.749120 -0.724741 -0.616571   \n",
      "3     -1.130471 -0.657369  ... -0.858279 -0.692852 -0.702988 -0.635156   \n",
      "4      0.226947  0.763910  ... -1.210911 -1.268522 -1.336249 -1.234507   \n",
      "...         ...       ...  ...       ...       ...       ...       ...   \n",
      "16795 -1.429462 -1.766726  ... -1.486136 -0.688523  0.005201 -0.207712   \n",
      "16796 -1.262027 -1.327323  ...  0.173814  0.566698  0.585288  0.772621   \n",
      "16797 -1.106552 -1.294775  ... -1.769961 -1.454641 -1.169475 -2.070810   \n",
      "16798 -0.747763 -0.784850  ... -1.894672 -0.718822 -0.299345 -1.271676   \n",
      "16799 -1.925786 -1.910481  ... -1.503337 -0.433151 -0.676401 -0.862816   \n",
      "\n",
      "             41        42        43        44        45        46  \n",
      "0     -0.391564 -0.429738 -0.731958 -0.794557 -0.990219 -0.844157  \n",
      "1     -0.950705 -0.967434 -0.942450 -1.013142 -1.422626 -1.297949  \n",
      "2     -0.522841 -0.384554 -0.934581 -0.926619 -1.276688 -0.723635  \n",
      "3     -0.663841 -0.628550 -0.482214 -0.366494 -1.422626 -1.432095  \n",
      "4     -1.271603 -1.175282 -1.054741 -1.112189 -1.373980 -1.180571  \n",
      "...         ...       ...       ...       ...       ...       ...  \n",
      "16795 -0.391564 -0.538181 -1.888792 -2.024100 -0.941574 -1.834534  \n",
      "16796  1.028167  1.147199 -1.765489 -1.316748 -1.044270 -0.911230  \n",
      "16797 -3.162957 -3.877313 -1.582502 -1.933022 -0.779421 -1.650083  \n",
      "16798 -2.365574 -3.172435 -1.207886 -1.386559 -1.006435 -1.427903  \n",
      "16799 -0.517978 -0.136039 -2.360007 -2.579671 -1.909083 -2.819670  \n",
      "\n",
      "[24000 rows x 47 columns]\n"
     ]
    }
   ],
   "source": [
    "print(df_list[48])"
   ]
  },
  {
   "cell_type": "code",
   "execution_count": null,
   "id": "99df0b74",
   "metadata": {},
   "outputs": [],
   "source": []
  },
  {
   "cell_type": "markdown",
   "id": "4e675319",
   "metadata": {},
   "source": [
    "References\n",
    "\n",
    "https://www.geeksforgeeks.org/implementation-of-k-nearest-neighbors-from-scratch-using-python/\n",
    "https://stackoverflow.com/questions/61053224/how-can-i-read-multiple-csv-file-from-different-sub-directories-and-find-the-csv?rq=1\n",
    "https://stackoverflow.com/questions/45759966/counting-unique-values-in-a-column-in-pandas-dataframe-like-in-qlik\n"
   ]
  },
  {
   "cell_type": "code",
   "execution_count": null,
   "id": "22fbdd80",
   "metadata": {},
   "outputs": [],
   "source": []
  }
 ],
 "metadata": {
  "kernelspec": {
   "display_name": "Python 3 (ipykernel)",
   "language": "python",
   "name": "python3"
  },
  "language_info": {
   "codemirror_mode": {
    "name": "ipython",
    "version": 3
   },
   "file_extension": ".py",
   "mimetype": "text/x-python",
   "name": "python",
   "nbconvert_exporter": "python",
   "pygments_lexer": "ipython3",
   "version": "3.8.8"
  }
 },
 "nbformat": 4,
 "nbformat_minor": 5
}
