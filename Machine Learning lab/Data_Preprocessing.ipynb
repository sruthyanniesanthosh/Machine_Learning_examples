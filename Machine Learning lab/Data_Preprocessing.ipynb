{
 "cells": [
  {
   "cell_type": "code",
   "execution_count": 1,
   "id": "57a8cfbb-b2f3-414b-93ea-70b54b13739f",
   "metadata": {
    "scrolled": false
   },
   "outputs": [
    {
     "name": "stdout",
     "output_type": "stream",
     "text": [
      "All the words in the text:  ['lorem', 'ipsum', 'dolor', 'sit', 'amet', 'consectetur', 'adipiscing', 'elit', 'donec', 'in', 'erat', 'maximus', 'eleifend', 'ante', 'eget', 'feugiat', 'libero', 'maecenas', 'vel', 'pharetra', 'orci', 'morbi', 'vitae', 'finibus', 'augue', 'nunc', 'pharetra', 'ac', 'lacus', 'vel', 'efficitur', 'cras', 'sed', 'urna', 'non', 'ex', 'luctus', 'imperdiet', 'sed', 'eu', 'volutpat', 'nunc', 'maecenas', 'et', 'nunc', 'tellus', 'nunc', 'eget', 'purus', 'consectetur', 'ultricies', 'leo', 'iaculis', 'gravida', 'elit', 'nunc', 'molestie', 'tortor', 'dolor', 'nec', 'laoreet', 'lectus', 'sollicitudin', 'sed', 'duis', 'ultricies', 'at', 'diam', 'nec', 'tincidunt', 'donec', 'at', 'metus', 'placerat', 'lacus', 'commodo', 'molestie', 'nec', 'ut', 'risus', 'curabitur', 'fermentum', 'justo', 'lectus', 'non', 'maximus', 'mauris', 'placerat', 'vel', 'fusce', 'auctor', 'ex', 'massa', 'nec', 'condimentum', 'enim', 'interdum', 'nec', 'maecenas', 'consectetur', 'varius', 'nunc', 'auctor', 'pellentesque', 'mi', 'feugiat', 'eu', 'cras', 'lacinia', 'ipsum', 'vitae', 'malesuada', 'eleifend', 'mi', 'magna', 'hendrerit', 'enim', 'id', 'fringilla', 'urna', 'ante', 'in', 'magna', 'suspendisse', 'dolor', 'nisl', 'interdum', 'sit', 'amet', 'rutrum', 'eget', 'congue', 'sit', 'amet', 'odio', 'vestibulum', 'vestibulum', 'orci', 'sed', 'volutpat', 'facilisis', 'quisque', 'consectetur', 'convallis', 'mauris', 'in', 'pretium', 'velit', 'arcu', 'sit', 'amet', 'facilisis', 'massa', 'semper', 'at', 'praesent', 'nec', 'lectus', 'sit', 'amet', 'elit', 'viverra', 'cursus', 'donec', 'suscipit', 'diam', 'id', 'metus', 'condimentum', 'tristique', 'duis', 'mollis', 'enim', 'eu', 'ornare', 'commodo', 'nullam', 'molestie', 'vel', 'enim', 'in', 'ornare', 'fusce', 'tempor', 'elit', 'at', 'mauris', 'imperdiet', 'tempor', 'donec', 'ut', 'felis', 'eu', 'neque', 'convallis', 'lobortis', 'donec', 'non', 'tortor', 'ut', 'tellus', 'hendrerit', 'finibus', 'at', 'at', 'nisl', 'quisque', 'iaculis', 'finibus', 'sem', 'non', 'finibus', 'aenean', 'lobortis', 'ornare', 'pellentesque', 'vivamus', 'euismod', 'urna', 'tortor', 'in', 'venenatis', 'nisi', 'venenatis', 'eu', 'nullam', 'finibus', 'libero', 'a', 'elementum', 'varius', 'ut', 'id', 'tincidunt', 'metus', 'in', 'sed', 'ante', 'et', 'sem', 'posuere', 'rutrum', 'at', 'eu', 'leo', 'integer', 'consequat', 'lacus', 'sit', 'amet', 'ante', 'placerat', 'tempor', 'fusce', 'commodo', 'enim', 'vitae', 'elit', 'lobortis', 'non', 'sagittis', 'eros', 'sagittis', 'nam', 'ultricies', 'elit', 'at', 'dapibus', 'convallis', 'tellus', 'ligula', 'sagittis', 'risus', 'non', 'condimentum', 'odio', 'dolor', 'eget', 'ex', 'etiam', 'feugiat', 'nulla', 'sed', 'tellus', 'ornare', 'pretium', 'nam', 'porta', 'vestibulum', 'dui', 'iaculis', 'tincidunt', 'aenean', 'a', 'dignissim', 'dui', 'nulla', 'facilisi', 'aliquam', 'faucibus', 'sodales', 'accumsan', 'donec', 'non', 'quam', 'in', 'justo', 'aliquam', 'luctus', 'vel', 'interdum', 'risus', 'duis', 'sodales', 'rhoncus', 'est', 'sed', 'semper', 'urna', 'ullamcorper', 'sit', 'amet', 'nulla', 'sagittis', 'ante', 'vel', 'molestie', 'blandit', 'aliquam', 'maximus', 'felis', 'ut', 'porttitor', 'rutrum', 'duis', 'eu', 'tempor', 'mauris', 'mauris', 'nisi', 'orci', 'feugiat', 'sed', 'blandit', 'euismod', 'tempus', 'sed', 'lorem', 'nullam', 'interdum', 'lorem', 'a', 'lectus', 'efficitur', 'pulvinar', 'nullam', 'mattis', 'efficitur', 'elit', 'ac', 'rutrum', 'donec', 'in', 'ante', 'vitae', 'est', 'dignissim', 'mollis', 'phasellus', 'at', 'velit', 'id', 'lectus', 'vehicula', 'condimentum', 'vestibulum', 'egestas', 'turpis', 'in', 'nisl', 'tristique', 'luctus', 'fusce', 'convallis', 'augue', 'iaculis', 'dignissim', 'tempus', 'augue', 'ex', 'convallis', 'ante', 'non', 'euismod', 'lectus', 'diam', 'eu', 'nisl', 'pellentesque', 'tristique', 'diam', 'in', 'augue', 'facilisis', 'euismod', 'eget', 'et', 'ante', 'sed', 'in', 'faucibus', 'ante', 'in', 'hac', 'habitasse', 'platea', 'dictumst', 'proin', 'elit', 'ligula', 'suscipit', 'id', 'risus', 'eu', 'volutpat', 'varius', 'libero', 'mauris', 'eget', 'metus', 'ut', 'nibh', 'vulputate', 'euismod', 'sed', 'justo', 'felis', 'accumsan', 'sit', 'amet', 'dui', 'vitae', 'dictum', 'suscipit', 'ligula', 'sed', 'commodo', 'dapibus', 'tincidunt'] \n",
      "\n",
      "['i', 'me', 'my', 'myself', 'we', 'our', 'ours', 'ourselves', 'you', \"you're\", \"you've\", \"you'll\", \"you'd\", 'your', 'yours', 'yourself', 'yourselves', 'he', 'him', 'his', 'himself', 'she', \"she's\", 'her', 'hers', 'herself', 'it', \"it's\", 'its', 'itself', 'they', 'them', 'their', 'theirs', 'themselves', 'what', 'which', 'who', 'whom', 'this', 'that', \"that'll\", 'these', 'those', 'am', 'is', 'are', 'was', 'were', 'be', 'been', 'being', 'have', 'has', 'had', 'having', 'do', 'does', 'did', 'doing', 'a', 'an', 'the', 'and', 'but', 'if', 'or', 'because', 'as', 'until', 'while', 'of', 'at', 'by', 'for', 'with', 'about', 'against', 'between', 'into', 'through', 'during', 'before', 'after', 'above', 'below', 'to', 'from', 'up', 'down', 'in', 'out', 'on', 'off', 'over', 'under', 'again', 'further', 'then', 'once', 'here', 'there', 'when', 'where', 'why', 'how', 'all', 'any', 'both', 'each', 'few', 'more', 'most', 'other', 'some', 'such', 'no', 'nor', 'not', 'only', 'own', 'same', 'so', 'than', 'too', 'very', 's', 't', 'can', 'will', 'just', 'don', \"don't\", 'should', \"should've\", 'now', 'd', 'll', 'm', 'o', 're', 've', 'y', 'ain', 'aren', \"aren't\", 'couldn', \"couldn't\", 'didn', \"didn't\", 'doesn', \"doesn't\", 'hadn', \"hadn't\", 'hasn', \"hasn't\", 'haven', \"haven't\", 'isn', \"isn't\", 'ma', 'mightn', \"mightn't\", 'mustn', \"mustn't\", 'needn', \"needn't\", 'shan', \"shan't\", 'shouldn', \"shouldn't\", 'wasn', \"wasn't\", 'weren', \"weren't\", 'won', \"won't\", 'wouldn', \"wouldn't\"]\n",
      "The number of unique non-stop words in the text are-  148\n",
      "The five most frequent words are - [('in', 12), ('sed', 12), ('ante', 9), ('eu', 9), ('at', 9)]\n"
     ]
    }
   ],
   "source": [
    "import nltk\n",
    "import re\n",
    "from collections import Counter\n",
    "\n",
    "# open text file stored in the same env as randox.txt\n",
    "with open('randox_txt') as f:\n",
    "    text = f.read()\n",
    "    words = re.split(\"\\s|[,.]| \",text) #removing special characters like .,\n",
    "    words1 = []\n",
    "for w in words:\n",
    "    if w.lower() != '':\n",
    "        words1.append(w.lower()) #appending all words to new array\n",
    "print(\"All the words in the text: \",words1,\"\\n\")\n",
    "\n",
    "stopwords = nltk.corpus.stopwords.words('english')\n",
    "#finding all stopwords in english using hint given\n",
    "print(stopwords)\n",
    "\n",
    "     \n",
    "count = 0\n",
    "list = []\n",
    "for w in words1:    \n",
    "    if w.lower() not in stopwords:\n",
    "        if w.lower() not in list:\n",
    "            list.append(w.lower())  #if the word is a non stop word and if its unique, it is counted.\n",
    "            count=count+1\n",
    "print(\"The number of unique non-stop words in the text are- \", count)\n",
    "\n",
    "\n",
    "\n",
    "counts = Counter(words1)\n",
    "top5 = counts.most_common(5) #finding the 5 most frequent words\n",
    "print(\"The five most frequent words are -\" ,top5)\n",
    "       "
   ]
  },
  {
   "cell_type": "raw",
   "id": "ceca357d",
   "metadata": {},
   "source": [
    "References\n",
    "\n",
    "1. https://pymotw.com/2/collections/counter.html\n",
    "2. nltk corpus"
   ]
  }
 ],
 "metadata": {
  "kernelspec": {
   "display_name": "Python 3",
   "language": "python",
   "name": "python3"
  },
  "language_info": {
   "codemirror_mode": {
    "name": "ipython",
    "version": 3
   },
   "file_extension": ".py",
   "mimetype": "text/x-python",
   "name": "python",
   "nbconvert_exporter": "python",
   "pygments_lexer": "ipython3",
   "version": "3.8.8"
  }
 },
 "nbformat": 4,
 "nbformat_minor": 5
}
