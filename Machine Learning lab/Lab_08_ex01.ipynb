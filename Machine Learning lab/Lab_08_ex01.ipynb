{
 "cells": [
  {
   "cell_type": "markdown",
   "id": "1acf64ea",
   "metadata": {},
   "source": [
    "## Exercise 1: Optical Character Recognition via Neural Networks"
   ]
  },
  {
   "cell_type": "code",
   "execution_count": 1,
   "id": "daff66be",
   "metadata": {},
   "outputs": [],
   "source": [
    "import matplotlib.pyplot as plt\n",
    "from sklearn.datasets import fetch_openml\n",
    "from sklearn.neural_network import MLPClassifier\n",
    "from sklearn.datasets import load_digits\n",
    "from sklearn.model_selection import train_test_split\n",
    "from sklearn.model_selection import RandomizedSearchCV\n",
    "from sklearn.metrics import accuracy_score\n",
    "\n",
    "import numpy as np"
   ]
  },
  {
   "cell_type": "code",
   "execution_count": 2,
   "id": "b3cc960c",
   "metadata": {},
   "outputs": [
    {
     "name": "stdout",
     "output_type": "stream",
     "text": [
      "{'data': array([[ 0.,  0.,  5., ...,  0.,  0.,  0.],\n",
      "       [ 0.,  0.,  0., ..., 10.,  0.,  0.],\n",
      "       [ 0.,  0.,  0., ..., 16.,  9.,  0.],\n",
      "       ...,\n",
      "       [ 0.,  0.,  1., ...,  6.,  0.,  0.],\n",
      "       [ 0.,  0.,  2., ..., 12.,  0.,  0.],\n",
      "       [ 0.,  0., 10., ..., 12.,  1.,  0.]]), 'target': array([0, 1, 2, ..., 8, 9, 8]), 'frame': None, 'feature_names': ['pixel_0_0', 'pixel_0_1', 'pixel_0_2', 'pixel_0_3', 'pixel_0_4', 'pixel_0_5', 'pixel_0_6', 'pixel_0_7', 'pixel_1_0', 'pixel_1_1', 'pixel_1_2', 'pixel_1_3', 'pixel_1_4', 'pixel_1_5', 'pixel_1_6', 'pixel_1_7', 'pixel_2_0', 'pixel_2_1', 'pixel_2_2', 'pixel_2_3', 'pixel_2_4', 'pixel_2_5', 'pixel_2_6', 'pixel_2_7', 'pixel_3_0', 'pixel_3_1', 'pixel_3_2', 'pixel_3_3', 'pixel_3_4', 'pixel_3_5', 'pixel_3_6', 'pixel_3_7', 'pixel_4_0', 'pixel_4_1', 'pixel_4_2', 'pixel_4_3', 'pixel_4_4', 'pixel_4_5', 'pixel_4_6', 'pixel_4_7', 'pixel_5_0', 'pixel_5_1', 'pixel_5_2', 'pixel_5_3', 'pixel_5_4', 'pixel_5_5', 'pixel_5_6', 'pixel_5_7', 'pixel_6_0', 'pixel_6_1', 'pixel_6_2', 'pixel_6_3', 'pixel_6_4', 'pixel_6_5', 'pixel_6_6', 'pixel_6_7', 'pixel_7_0', 'pixel_7_1', 'pixel_7_2', 'pixel_7_3', 'pixel_7_4', 'pixel_7_5', 'pixel_7_6', 'pixel_7_7'], 'target_names': array([0, 1, 2, 3, 4, 5, 6, 7, 8, 9]), 'images': array([[[ 0.,  0.,  5., ...,  1.,  0.,  0.],\n",
      "        [ 0.,  0., 13., ..., 15.,  5.,  0.],\n",
      "        [ 0.,  3., 15., ..., 11.,  8.,  0.],\n",
      "        ...,\n",
      "        [ 0.,  4., 11., ..., 12.,  7.,  0.],\n",
      "        [ 0.,  2., 14., ..., 12.,  0.,  0.],\n",
      "        [ 0.,  0.,  6., ...,  0.,  0.,  0.]],\n",
      "\n",
      "       [[ 0.,  0.,  0., ...,  5.,  0.,  0.],\n",
      "        [ 0.,  0.,  0., ...,  9.,  0.,  0.],\n",
      "        [ 0.,  0.,  3., ...,  6.,  0.,  0.],\n",
      "        ...,\n",
      "        [ 0.,  0.,  1., ...,  6.,  0.,  0.],\n",
      "        [ 0.,  0.,  1., ...,  6.,  0.,  0.],\n",
      "        [ 0.,  0.,  0., ..., 10.,  0.,  0.]],\n",
      "\n",
      "       [[ 0.,  0.,  0., ..., 12.,  0.,  0.],\n",
      "        [ 0.,  0.,  3., ..., 14.,  0.,  0.],\n",
      "        [ 0.,  0.,  8., ..., 16.,  0.,  0.],\n",
      "        ...,\n",
      "        [ 0.,  9., 16., ...,  0.,  0.,  0.],\n",
      "        [ 0.,  3., 13., ..., 11.,  5.,  0.],\n",
      "        [ 0.,  0.,  0., ..., 16.,  9.,  0.]],\n",
      "\n",
      "       ...,\n",
      "\n",
      "       [[ 0.,  0.,  1., ...,  1.,  0.,  0.],\n",
      "        [ 0.,  0., 13., ...,  2.,  1.,  0.],\n",
      "        [ 0.,  0., 16., ..., 16.,  5.,  0.],\n",
      "        ...,\n",
      "        [ 0.,  0., 16., ..., 15.,  0.,  0.],\n",
      "        [ 0.,  0., 15., ..., 16.,  0.,  0.],\n",
      "        [ 0.,  0.,  2., ...,  6.,  0.,  0.]],\n",
      "\n",
      "       [[ 0.,  0.,  2., ...,  0.,  0.,  0.],\n",
      "        [ 0.,  0., 14., ..., 15.,  1.,  0.],\n",
      "        [ 0.,  4., 16., ..., 16.,  7.,  0.],\n",
      "        ...,\n",
      "        [ 0.,  0.,  0., ..., 16.,  2.,  0.],\n",
      "        [ 0.,  0.,  4., ..., 16.,  2.,  0.],\n",
      "        [ 0.,  0.,  5., ..., 12.,  0.,  0.]],\n",
      "\n",
      "       [[ 0.,  0., 10., ...,  1.,  0.,  0.],\n",
      "        [ 0.,  2., 16., ...,  1.,  0.,  0.],\n",
      "        [ 0.,  0., 15., ..., 15.,  0.,  0.],\n",
      "        ...,\n",
      "        [ 0.,  4., 16., ..., 16.,  6.,  0.],\n",
      "        [ 0.,  8., 16., ..., 16.,  8.,  0.],\n",
      "        [ 0.,  1.,  8., ..., 12.,  1.,  0.]]]), 'DESCR': \".. _digits_dataset:\\n\\nOptical recognition of handwritten digits dataset\\n--------------------------------------------------\\n\\n**Data Set Characteristics:**\\n\\n    :Number of Instances: 1797\\n    :Number of Attributes: 64\\n    :Attribute Information: 8x8 image of integer pixels in the range 0..16.\\n    :Missing Attribute Values: None\\n    :Creator: E. Alpaydin (alpaydin '@' boun.edu.tr)\\n    :Date: July; 1998\\n\\nThis is a copy of the test set of the UCI ML hand-written digits datasets\\nhttps://archive.ics.uci.edu/ml/datasets/Optical+Recognition+of+Handwritten+Digits\\n\\nThe data set contains images of hand-written digits: 10 classes where\\neach class refers to a digit.\\n\\nPreprocessing programs made available by NIST were used to extract\\nnormalized bitmaps of handwritten digits from a preprinted form. From a\\ntotal of 43 people, 30 contributed to the training set and different 13\\nto the test set. 32x32 bitmaps are divided into nonoverlapping blocks of\\n4x4 and the number of on pixels are counted in each block. This generates\\nan input matrix of 8x8 where each element is an integer in the range\\n0..16. This reduces dimensionality and gives invariance to small\\ndistortions.\\n\\nFor info on NIST preprocessing routines, see M. D. Garris, J. L. Blue, G.\\nT. Candela, D. L. Dimmick, J. Geist, P. J. Grother, S. A. Janet, and C.\\nL. Wilson, NIST Form-Based Handprint Recognition System, NISTIR 5469,\\n1994.\\n\\n.. topic:: References\\n\\n  - C. Kaynak (1995) Methods of Combining Multiple Classifiers and Their\\n    Applications to Handwritten Digit Recognition, MSc Thesis, Institute of\\n    Graduate Studies in Science and Engineering, Bogazici University.\\n  - E. Alpaydin, C. Kaynak (1998) Cascading Classifiers, Kybernetika.\\n  - Ken Tang and Ponnuthurai N. Suganthan and Xi Yao and A. Kai Qin.\\n    Linear dimensionalityreduction using relevance weighted LDA. School of\\n    Electrical and Electronic Engineering Nanyang Technological University.\\n    2005.\\n  - Claudio Gentile. A New Approximate Maximal Margin Classification\\n    Algorithm. NIPS. 2000.\\n\"}\n"
     ]
    }
   ],
   "source": [
    "# Loading the MNIST digits dataset via sklearn provided built-in utility function\n",
    "\n",
    "digits = load_digits() \n",
    "print(digits)"
   ]
  },
  {
   "cell_type": "code",
   "execution_count": 3,
   "id": "908f7eaa",
   "metadata": {},
   "outputs": [
    {
     "data": {
      "text/plain": [
       "(1797, 64)"
      ]
     },
     "execution_count": 3,
     "metadata": {},
     "output_type": "execute_result"
    }
   ],
   "source": [
    "X = digits.data #contains the values of digits\n",
    "X.shape"
   ]
  },
  {
   "cell_type": "code",
   "execution_count": 4,
   "id": "9245029b",
   "metadata": {},
   "outputs": [
    {
     "data": {
      "text/plain": [
       "(1797,)"
      ]
     },
     "execution_count": 4,
     "metadata": {},
     "output_type": "execute_result"
    }
   ],
   "source": [
    "Y = digits.target #contains the target y values corresponding to each data\n",
    "Y.shape"
   ]
  },
  {
   "cell_type": "code",
   "execution_count": 5,
   "id": "684be31f",
   "metadata": {},
   "outputs": [
    {
     "name": "stdout",
     "output_type": "stream",
     "text": [
      "[0 1 2 ... 8 9 8]\n"
     ]
    }
   ],
   "source": [
    "print(Y)"
   ]
  },
  {
   "cell_type": "code",
   "execution_count": 6,
   "id": "f4930532",
   "metadata": {},
   "outputs": [],
   "source": [
    "#Splitting the dataset for training and testing. 20% for testing\n",
    "\n",
    "X_train, X_test, y_train, y_test = train_test_split(X, Y, test_size=0.20, random_state=3116, stratify=Y)\n"
   ]
  },
  {
   "cell_type": "code",
   "execution_count": 7,
   "id": "1b2e4696",
   "metadata": {},
   "outputs": [
    {
     "name": "stdout",
     "output_type": "stream",
     "text": [
      "(1437, 64)\n",
      "(1437,)\n",
      "(360, 64)\n",
      "(360,)\n"
     ]
    }
   ],
   "source": [
    "print(X_train.shape)\n",
    "print(y_train.shape)\n",
    "print(X_test.shape)\n",
    "print(y_test.shape)"
   ]
  },
  {
   "cell_type": "code",
   "execution_count": 8,
   "id": "5b3c6521",
   "metadata": {},
   "outputs": [],
   "source": [
    "#Defining a paramter space for the list of parameters to be used for the MLP classifier. The ranges for parameters taken randomly.\n",
    "\n",
    "params = {'alpha' : np.linspace(0.0001, 0.1, num=5),'activation':['identity','logistic','tanh','relu'],'learning_rate':['constant','adaptive'],'learning_rate_init':np.linspace(0.001, 0.1, num=5)}\n",
    "\n",
    "\n"
   ]
  },
  {
   "cell_type": "code",
   "execution_count": 9,
   "id": "2a8e28fd",
   "metadata": {},
   "outputs": [],
   "source": [
    "\n",
    "mlp = MLPClassifier(random_state=1, max_iter=400) # Defining the mlp classifier. Iterations chosed according to trial and error\n",
    "\n",
    "#Using randomsearch to find the best parameters for the model from the given parameter space.\n",
    "search = RandomizedSearchCV(mlp,params, random_state=0, cv=5) #cv value given to implement k fold cross validation. Here given fold value as 5\n",
    "\n",
    "classifier = search.fit(X_train,y_train) # Training the model usinh fit method"
   ]
  },
  {
   "cell_type": "code",
   "execution_count": 10,
   "id": "f3c9e252",
   "metadata": {},
   "outputs": [
    {
     "name": "stdout",
     "output_type": "stream",
     "text": [
      "The best parameters are - {'learning_rate_init': 0.001, 'learning_rate': 'constant', 'alpha': 0.050050000000000004, 'activation': 'relu'}\n"
     ]
    }
   ],
   "source": [
    "print(\"The best parameters are -\",classifier.best_params_)\n",
    "\n",
    "#the output object has attribute which stores the best parameter"
   ]
  },
  {
   "cell_type": "code",
   "execution_count": 11,
   "id": "2e3c2692",
   "metadata": {},
   "outputs": [
    {
     "data": {
      "text/plain": [
       "{'mean_fit_time': array([0.22755404, 0.55715199, 0.16468821, 0.18561497, 0.35035677,\n",
       "        0.43684778, 0.82260065, 0.49571652, 0.2194983 , 0.32866235]),\n",
       " 'std_fit_time': array([0.12882484, 0.01410119, 0.03231964, 0.03262715, 0.18044454,\n",
       "        0.07333912, 0.03763877, 0.03402713, 0.03983464, 0.14629898]),\n",
       " 'mean_score_time': array([0.00044703, 0.00058575, 0.00093517, 0.0006134 , 0.00046482,\n",
       "        0.0006207 , 0.00069838, 0.00068669, 0.00050068, 0.00055971]),\n",
       " 'std_score_time': array([6.00089665e-05, 1.87616753e-04, 4.02193914e-04, 1.48574378e-05,\n",
       "        2.20119106e-05, 2.25776156e-04, 2.33459073e-04, 2.46028567e-05,\n",
       "        1.74322235e-04, 2.21735052e-04]),\n",
       " 'param_learning_rate_init': masked_array(data=[0.07525000000000001, 0.001, 0.0505,\n",
       "                    0.07525000000000001, 0.0505, 0.0505, 0.001,\n",
       "                    0.025750000000000002, 0.0505, 0.0505],\n",
       "              mask=[False, False, False, False, False, False, False, False,\n",
       "                    False, False],\n",
       "        fill_value='?',\n",
       "             dtype=object),\n",
       " 'param_learning_rate': masked_array(data=['adaptive', 'constant', 'adaptive', 'adaptive',\n",
       "                    'adaptive', 'constant', 'adaptive', 'adaptive',\n",
       "                    'constant', 'constant'],\n",
       "              mask=[False, False, False, False, False, False, False, False,\n",
       "                    False, False],\n",
       "        fill_value='?',\n",
       "             dtype=object),\n",
       " 'param_alpha': masked_array(data=[0.025075, 0.050050000000000004, 0.0001, 0.1,\n",
       "                    0.050050000000000004, 0.07502500000000001, 0.0001, 0.1,\n",
       "                    0.025075, 0.0001],\n",
       "              mask=[False, False, False, False, False, False, False, False,\n",
       "                    False, False],\n",
       "        fill_value='?',\n",
       "             dtype=object),\n",
       " 'param_activation': masked_array(data=['identity', 'relu', 'tanh', 'logistic', 'relu', 'relu',\n",
       "                    'identity', 'tanh', 'identity', 'relu'],\n",
       "              mask=[False, False, False, False, False, False, False, False,\n",
       "                    False, False],\n",
       "        fill_value='?',\n",
       "             dtype=object),\n",
       " 'params': [{'learning_rate_init': 0.07525000000000001,\n",
       "   'learning_rate': 'adaptive',\n",
       "   'alpha': 0.025075,\n",
       "   'activation': 'identity'},\n",
       "  {'learning_rate_init': 0.001,\n",
       "   'learning_rate': 'constant',\n",
       "   'alpha': 0.050050000000000004,\n",
       "   'activation': 'relu'},\n",
       "  {'learning_rate_init': 0.0505,\n",
       "   'learning_rate': 'adaptive',\n",
       "   'alpha': 0.0001,\n",
       "   'activation': 'tanh'},\n",
       "  {'learning_rate_init': 0.07525000000000001,\n",
       "   'learning_rate': 'adaptive',\n",
       "   'alpha': 0.1,\n",
       "   'activation': 'logistic'},\n",
       "  {'learning_rate_init': 0.0505,\n",
       "   'learning_rate': 'adaptive',\n",
       "   'alpha': 0.050050000000000004,\n",
       "   'activation': 'relu'},\n",
       "  {'learning_rate_init': 0.0505,\n",
       "   'learning_rate': 'constant',\n",
       "   'alpha': 0.07502500000000001,\n",
       "   'activation': 'relu'},\n",
       "  {'learning_rate_init': 0.001,\n",
       "   'learning_rate': 'adaptive',\n",
       "   'alpha': 0.0001,\n",
       "   'activation': 'identity'},\n",
       "  {'learning_rate_init': 0.025750000000000002,\n",
       "   'learning_rate': 'adaptive',\n",
       "   'alpha': 0.1,\n",
       "   'activation': 'tanh'},\n",
       "  {'learning_rate_init': 0.0505,\n",
       "   'learning_rate': 'constant',\n",
       "   'alpha': 0.025075,\n",
       "   'activation': 'identity'},\n",
       "  {'learning_rate_init': 0.0505,\n",
       "   'learning_rate': 'constant',\n",
       "   'alpha': 0.0001,\n",
       "   'activation': 'relu'}],\n",
       " 'split0_test_score': array([0.94097222, 0.96180556, 0.89930556, 0.92361111, 0.89583333,\n",
       "        0.91319444, 0.95486111, 0.85069444, 0.94791667, 0.94791667]),\n",
       " 'split1_test_score': array([0.94444444, 0.97916667, 0.94444444, 0.95486111, 0.88194444,\n",
       "        0.77777778, 0.95833333, 0.9375    , 0.94444444, 0.88194444]),\n",
       " 'split2_test_score': array([0.94425087, 0.97560976, 0.93728223, 0.92682927, 0.91986063,\n",
       "        0.94773519, 0.96167247, 0.89198606, 0.95818815, 0.92334495]),\n",
       " 'split3_test_score': array([0.97560976, 0.98954704, 0.93031359, 0.96864111, 0.93031359,\n",
       "        0.93379791, 0.96515679, 0.6097561 , 0.97560976, 0.95470383]),\n",
       " 'split4_test_score': array([0.97909408, 0.97212544, 0.93379791, 0.95121951, 0.95818815,\n",
       "        0.90940767, 0.95818815, 0.90940767, 0.96167247, 0.94773519]),\n",
       " 'mean_test_score': array([0.95687427, 0.97565089, 0.92902875, 0.94503242, 0.91722803,\n",
       "        0.8963826 , 0.95964237, 0.83986885, 0.9575663 , 0.93112902]),\n",
       " 'std_test_score': array([0.01680157, 0.00905083, 0.01557965, 0.01721906, 0.02667793,\n",
       "        0.06092026, 0.00349911, 0.11845063, 0.01102826, 0.026807  ]),\n",
       " 'rank_test_score': array([ 4,  1,  7,  5,  8,  9,  2, 10,  3,  6], dtype=int32)}"
      ]
     },
     "execution_count": 11,
     "metadata": {},
     "output_type": "execute_result"
    }
   ],
   "source": [
    "classifier.cv_results_ "
   ]
  },
  {
   "cell_type": "code",
   "execution_count": 12,
   "id": "d96b6077",
   "metadata": {},
   "outputs": [
    {
     "data": {
      "text/plain": [
       "0.9756508904374759"
      ]
     },
     "execution_count": 12,
     "metadata": {},
     "output_type": "execute_result"
    }
   ],
   "source": [
    "classifier.best_score_ #Best accuracy score of the model on the train data"
   ]
  },
  {
   "cell_type": "code",
   "execution_count": 13,
   "id": "c939b5ef",
   "metadata": {},
   "outputs": [
    {
     "name": "stdout",
     "output_type": "stream",
     "text": [
      "Reporting the test accuracy for the best parameters as : 0.9666666666666667\n"
     ]
    }
   ],
   "source": [
    "#Defining the classifier with the best parameters and using that model for predicting the values for test set\n",
    "\n",
    "best_classifier = classifier.best_estimator_  #to get the best classifier\n",
    "\n",
    "y_predicted = best_classifier.predict(X_test) # y values predicted\n",
    "\n",
    "test_score = accuracy_score(y_test,y_predicted) #calcuating the accuracy score\n",
    "\n",
    "print(\"Reporting the test accuracy for the best parameters as :\",test_score)\n"
   ]
  },
  {
   "cell_type": "markdown",
   "id": "ab5b545e",
   "metadata": {},
   "source": [
    "We find that the accuracy value is less for the test set when compared to the train set. But overall there is very high accuracy for the MLP classifer with best params."
   ]
  },
  {
   "cell_type": "markdown",
   "id": "bf2f4b00",
   "metadata": {},
   "source": [
    "References:\n",
    "https://johdev.com/jupyter/2020/03/02/Sklearn_MLP_for_MNIST.html\n",
    "https://scikit-learn.org/stable/modules/generated/sklearn.datasets.load_digits.html\n",
    "https://scikit-learn.org/stable/auto_examples/classification/plot_digits_classification.html#sphx-glr-auto-examples-classification-plot-digits-classification-py\n",
    "https://scikit-learn.org/stable/modules/generated/sklearn.neural_network.MLPClassifier.html\n",
    "https://scikit-learn.org/stable/modules/generated/sklearn.model_selection.cross_val_score.html#sklearn.model_selection.cross_val_score\n",
    "https://scikit-learn.org/stable/modules/generated/sklearn.model_selection.RandomizedSearchCV.html\n",
    "https://scikit-learn.org/stable/modules/generated/sklearn.metrics.accuracy_score.html\n"
   ]
  }
 ],
 "metadata": {
  "kernelspec": {
   "display_name": "Python 3 (ipykernel)",
   "language": "python",
   "name": "python3"
  },
  "language_info": {
   "codemirror_mode": {
    "name": "ipython",
    "version": 3
   },
   "file_extension": ".py",
   "mimetype": "text/x-python",
   "name": "python",
   "nbconvert_exporter": "python",
   "pygments_lexer": "ipython3",
   "version": "3.8.8"
  }
 },
 "nbformat": 4,
 "nbformat_minor": 5
}
